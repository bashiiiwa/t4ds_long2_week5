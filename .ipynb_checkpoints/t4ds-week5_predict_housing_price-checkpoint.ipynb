{
 "cells": [
  {
   "cell_type": "markdown",
   "metadata": {
    "colab_type": "text",
    "id": "TPqvpUNb6eK_"
   },
   "source": [
    "   # これはweek5のテキストです。\n",
    "   ## 前半の予測モデルを作るところまではweek3のテキストと全く一緒です。\n"
   ]
  },
  {
   "cell_type": "markdown",
   "metadata": {},
   "source": [
    "今回は東京中古マンションのデータを利用します。「housing_tokyo_chuo_line_week3.csv」のデータが与えられているとして、まずはTableauで可視化をしてみましょう。\n",
    "___\n",
    "\n",
    "**§ワーク１：　マンションの価格に強く影響を与えている説明変数（特徴量）は何ですか？**  \n",
    "___\n",
    "\n"
   ]
  },
  {
   "cell_type": "code",
   "execution_count": 4,
   "metadata": {},
   "outputs": [
    {
     "data": {
      "text/html": [
       "<div class='tableauPlaceholder' id='viz1579748707019' style='position: relative'><noscript><a href='#'><img alt=' ' src='https:&#47;&#47;public.tableau.com&#47;static&#47;images&#47;To&#47;TokyoChuoLineHousingPrice&#47;TokyoChuoLineHouingPrice&#47;1_rss.png' style='border: none' /></a></noscript><object class='tableauViz'  style='display:none;'><param name='host_url' value='https%3A%2F%2Fpublic.tableau.com%2F' /> <param name='embed_code_version' value='3' /> <param name='site_root' value='' /><param name='name' value='TokyoChuoLineHousingPrice&#47;TokyoChuoLineHouingPrice' /><param name='tabs' value='no' /><param name='toolbar' value='yes' /><param name='static_image' value='https:&#47;&#47;public.tableau.com&#47;static&#47;images&#47;To&#47;TokyoChuoLineHousingPrice&#47;TokyoChuoLineHouingPrice&#47;1.png' /> <param name='animate_transition' value='yes' /><param name='display_static_image' value='yes' /><param name='display_spinner' value='yes' /><param name='display_overlay' value='yes' /><param name='display_count' value='yes' /><param name='filter' value='publish=yes' /></object></div>                <script type='text/javascript'>                    var divElement = document.getElementById('viz1579748707019');                    var vizElement = divElement.getElementsByTagName('object')[0];                    vizElement.style.width='100%';vizElement.style.height=(divElement.offsetWidth*0.5)+'px';                    var scriptElement = document.createElement('script');                    scriptElement.src = 'https://public.tableau.com/javascripts/api/viz_v1.js';                    vizElement.parentNode.insertBefore(scriptElement, vizElement);                </script>\n"
      ],
      "text/plain": [
       "<IPython.core.display.HTML object>"
      ]
     },
     "metadata": {},
     "output_type": "display_data"
    }
   ],
   "source": [
    "%%HTML\n",
    "<div class='tableauPlaceholder' id='viz1579748707019' style='position: relative'><noscript><a href='#'><img alt=' ' src='https:&#47;&#47;public.tableau.com&#47;static&#47;images&#47;To&#47;TokyoChuoLineHousingPrice&#47;TokyoChuoLineHouingPrice&#47;1_rss.png' style='border: none' /></a></noscript><object class='tableauViz'  style='display:none;'><param name='host_url' value='https%3A%2F%2Fpublic.tableau.com%2F' /> <param name='embed_code_version' value='3' /> <param name='site_root' value='' /><param name='name' value='TokyoChuoLineHousingPrice&#47;TokyoChuoLineHouingPrice' /><param name='tabs' value='no' /><param name='toolbar' value='yes' /><param name='static_image' value='https:&#47;&#47;public.tableau.com&#47;static&#47;images&#47;To&#47;TokyoChuoLineHousingPrice&#47;TokyoChuoLineHouingPrice&#47;1.png' /> <param name='animate_transition' value='yes' /><param name='display_static_image' value='yes' /><param name='display_spinner' value='yes' /><param name='display_overlay' value='yes' /><param name='display_count' value='yes' /><param name='filter' value='publish=yes' /></object></div>                <script type='text/javascript'>                    var divElement = document.getElementById('viz1579748707019');                    var vizElement = divElement.getElementsByTagName('object')[0];                    vizElement.style.width='100%';vizElement.style.height=(divElement.offsetWidth*0.5)+'px';                    var scriptElement = document.createElement('script');                    scriptElement.src = 'https://public.tableau.com/javascripts/api/viz_v1.js';                    vizElement.parentNode.insertBefore(scriptElement, vizElement);                </script>"
   ]
  },
  {
   "cell_type": "markdown",
   "metadata": {
    "colab_type": "text",
    "id": "PmZKwhpi6eK_"
   },
   "source": [
    "### scikit-learnで重回帰分析の実装\n",
    "#### scikit-learnとは\n",
    "\n",
    "scikit-learnとは、非常に便利なPythonの機械学習パッケージとなります。少ない行数、わかりやすいコードで機械学習を実装することができるため多くのユーザーに支持されています。Pythonの機械学習パッケージでは、デファクトスタンダードとなっております。"
   ]
  },
  {
   "cell_type": "markdown",
   "metadata": {
    "colab_type": "text",
    "id": "nz18NGyZ6eK_"
   },
   "source": [
    "#### データの準備\n",
    "pandasのところでも扱った、東京中古マンションのデータを読み込みましょう。"
   ]
  },
  {
   "cell_type": "code",
   "execution_count": 5,
   "metadata": {
    "colab": {},
    "colab_type": "code",
    "id": "AZdGtsnk6eK_"
   },
   "outputs": [],
   "source": [
    "#pandasをインポートします。\n",
    "\n",
    "import pandas as pd"
   ]
  },
  {
   "cell_type": "code",
   "execution_count": 6,
   "metadata": {},
   "outputs": [],
   "source": [
    "#ファイルがあるか確認しましょう。\n",
    "#ls "
   ]
  },
  {
   "cell_type": "code",
   "execution_count": 7,
   "metadata": {},
   "outputs": [],
   "source": [
    "# データをインポートします。\n",
    "data = pd.read_csv(\"housing_tokyo_chuo_line_week3.csv\")"
   ]
  },
  {
   "cell_type": "code",
   "execution_count": 8,
   "metadata": {},
   "outputs": [
    {
     "data": {
      "text/html": [
       "<div>\n",
       "<style scoped>\n",
       "    .dataframe tbody tr th:only-of-type {\n",
       "        vertical-align: middle;\n",
       "    }\n",
       "\n",
       "    .dataframe tbody tr th {\n",
       "        vertical-align: top;\n",
       "    }\n",
       "\n",
       "    .dataframe thead th {\n",
       "        text-align: right;\n",
       "    }\n",
       "</style>\n",
       "<table border=\"1\" class=\"dataframe\">\n",
       "  <thead>\n",
       "    <tr style=\"text-align: right;\">\n",
       "      <th></th>\n",
       "      <th>uid</th>\n",
       "      <th>years</th>\n",
       "      <th>minutes</th>\n",
       "      <th>sqrm</th>\n",
       "      <th>distance</th>\n",
       "      <th>renovate</th>\n",
       "      <th>express</th>\n",
       "      <th>price</th>\n",
       "    </tr>\n",
       "  </thead>\n",
       "  <tbody>\n",
       "    <tr>\n",
       "      <td>0</td>\n",
       "      <td>13101-1</td>\n",
       "      <td>34</td>\n",
       "      <td>3</td>\n",
       "      <td>35</td>\n",
       "      <td>2.983801</td>\n",
       "      <td>0</td>\n",
       "      <td>0</td>\n",
       "      <td>24000000</td>\n",
       "    </tr>\n",
       "    <tr>\n",
       "      <td>1</td>\n",
       "      <td>13101-2</td>\n",
       "      <td>37</td>\n",
       "      <td>4</td>\n",
       "      <td>20</td>\n",
       "      <td>2.983801</td>\n",
       "      <td>0</td>\n",
       "      <td>0</td>\n",
       "      <td>13000000</td>\n",
       "    </tr>\n",
       "    <tr>\n",
       "      <td>2</td>\n",
       "      <td>13101-4</td>\n",
       "      <td>34</td>\n",
       "      <td>3</td>\n",
       "      <td>30</td>\n",
       "      <td>2.983801</td>\n",
       "      <td>0</td>\n",
       "      <td>0</td>\n",
       "      <td>22000000</td>\n",
       "    </tr>\n",
       "    <tr>\n",
       "      <td>3</td>\n",
       "      <td>13101-5</td>\n",
       "      <td>35</td>\n",
       "      <td>1</td>\n",
       "      <td>70</td>\n",
       "      <td>2.983801</td>\n",
       "      <td>0</td>\n",
       "      <td>0</td>\n",
       "      <td>69000000</td>\n",
       "    </tr>\n",
       "    <tr>\n",
       "      <td>4</td>\n",
       "      <td>13101-6</td>\n",
       "      <td>34</td>\n",
       "      <td>3</td>\n",
       "      <td>25</td>\n",
       "      <td>2.983801</td>\n",
       "      <td>0</td>\n",
       "      <td>0</td>\n",
       "      <td>21000000</td>\n",
       "    </tr>\n",
       "  </tbody>\n",
       "</table>\n",
       "</div>"
      ],
      "text/plain": [
       "       uid  years  minutes  sqrm  distance  renovate  express     price\n",
       "0  13101-1     34        3    35  2.983801         0        0  24000000\n",
       "1  13101-2     37        4    20  2.983801         0        0  13000000\n",
       "2  13101-4     34        3    30  2.983801         0        0  22000000\n",
       "3  13101-5     35        1    70  2.983801         0        0  69000000\n",
       "4  13101-6     34        3    25  2.983801         0        0  21000000"
      ]
     },
     "execution_count": 8,
     "metadata": {},
     "output_type": "execute_result"
    }
   ],
   "source": [
    "data.head()"
   ]
  },
  {
   "cell_type": "code",
   "execution_count": 9,
   "metadata": {},
   "outputs": [
    {
     "data": {
      "text/html": [
       "<div>\n",
       "<style scoped>\n",
       "    .dataframe tbody tr th:only-of-type {\n",
       "        vertical-align: middle;\n",
       "    }\n",
       "\n",
       "    .dataframe tbody tr th {\n",
       "        vertical-align: top;\n",
       "    }\n",
       "\n",
       "    .dataframe thead th {\n",
       "        text-align: right;\n",
       "    }\n",
       "</style>\n",
       "<table border=\"1\" class=\"dataframe\">\n",
       "  <thead>\n",
       "    <tr style=\"text-align: right;\">\n",
       "      <th></th>\n",
       "      <th>years</th>\n",
       "      <th>minutes</th>\n",
       "      <th>sqrm</th>\n",
       "      <th>distance</th>\n",
       "      <th>renovate</th>\n",
       "      <th>express</th>\n",
       "      <th>price</th>\n",
       "    </tr>\n",
       "  </thead>\n",
       "  <tbody>\n",
       "    <tr>\n",
       "      <td>0</td>\n",
       "      <td>34</td>\n",
       "      <td>3</td>\n",
       "      <td>35</td>\n",
       "      <td>2.983801</td>\n",
       "      <td>0</td>\n",
       "      <td>0</td>\n",
       "      <td>24000000</td>\n",
       "    </tr>\n",
       "    <tr>\n",
       "      <td>1</td>\n",
       "      <td>37</td>\n",
       "      <td>4</td>\n",
       "      <td>20</td>\n",
       "      <td>2.983801</td>\n",
       "      <td>0</td>\n",
       "      <td>0</td>\n",
       "      <td>13000000</td>\n",
       "    </tr>\n",
       "    <tr>\n",
       "      <td>2</td>\n",
       "      <td>34</td>\n",
       "      <td>3</td>\n",
       "      <td>30</td>\n",
       "      <td>2.983801</td>\n",
       "      <td>0</td>\n",
       "      <td>0</td>\n",
       "      <td>22000000</td>\n",
       "    </tr>\n",
       "    <tr>\n",
       "      <td>3</td>\n",
       "      <td>35</td>\n",
       "      <td>1</td>\n",
       "      <td>70</td>\n",
       "      <td>2.983801</td>\n",
       "      <td>0</td>\n",
       "      <td>0</td>\n",
       "      <td>69000000</td>\n",
       "    </tr>\n",
       "    <tr>\n",
       "      <td>4</td>\n",
       "      <td>34</td>\n",
       "      <td>3</td>\n",
       "      <td>25</td>\n",
       "      <td>2.983801</td>\n",
       "      <td>0</td>\n",
       "      <td>0</td>\n",
       "      <td>21000000</td>\n",
       "    </tr>\n",
       "  </tbody>\n",
       "</table>\n",
       "</div>"
      ],
      "text/plain": [
       "   years  minutes  sqrm  distance  renovate  express     price\n",
       "0     34        3    35  2.983801         0        0  24000000\n",
       "1     37        4    20  2.983801         0        0  13000000\n",
       "2     34        3    30  2.983801         0        0  22000000\n",
       "3     35        1    70  2.983801         0        0  69000000\n",
       "4     34        3    25  2.983801         0        0  21000000"
      ]
     },
     "execution_count": 9,
     "metadata": {},
     "output_type": "execute_result"
    }
   ],
   "source": [
    "## uidは予測に必要がないので削除しましょう。\n",
    "df = data.iloc[:,1:]\n",
    "df.head()\n",
    "## df = data.drop(['uid'],axis=1) #これでも行ける"
   ]
  },
  {
   "cell_type": "code",
   "execution_count": 10,
   "metadata": {},
   "outputs": [],
   "source": [
    "# 相関行列を書いてみよう　\n",
    "#おまじない\n",
    "#!pip install seaborn\n",
    "#!pip install matplotlib\n"
   ]
  },
  {
   "cell_type": "code",
   "execution_count": 11,
   "metadata": {},
   "outputs": [
    {
     "data": {
      "text/plain": [
       "<matplotlib.axes._subplots.AxesSubplot at 0x1e74bfb5908>"
      ]
     },
     "execution_count": 11,
     "metadata": {},
     "output_type": "execute_result"
    },
    {
     "data": {
      "image/png": "[encoded data removed]",
      "text/plain": [
       "<Figure size 504x504 with 2 Axes>"
      ]
     },
     "metadata": {
      "needs_background": "light"
     },
     "output_type": "display_data"
    }
   ],
   "source": [
    "# 相関行列を書いてみよう　→　ここはこのまま実行しましょう！\n",
    "import seaborn as sns\n",
    "\n",
    "%matplotlib inline\n",
    "import matplotlib.pyplot as plt\n",
    "\n",
    "colormap = plt.cm.RdBu\n",
    "plt.figure(figsize=(7,7))\n",
    "plt.title('Pearson Correlation of Features', y=1.05, size=15)\n",
    "sns.heatmap(df.astype(float).corr(),linewidths=0.1,vmax=1.0, \n",
    "            square=True, cmap=colormap, linecolor='white', annot=True)"
   ]
  },
  {
   "cell_type": "markdown",
   "metadata": {},
   "source": [
    "___\n",
    "\n",
    "**§ワーク2：　相関行列を見て、マンションの価格に強く影響を与えている説明変数（特徴量）は何だと思いますか？Tableau による散布図と比べてどんなことがわかりますか？　ディスカッションしてみてください。**  \n",
    "___"
   ]
  },
  {
   "cell_type": "markdown",
   "metadata": {
    "colab_type": "text",
    "id": "OrIlr1fk6eLB"
   },
   "source": [
    "## 予測モデルを作る\n",
    "\n",
    "教師アリ学習での予測モデル作成の流れは以下のようになります。\n",
    "![教師アリ](images/教師アリ学習.png)\n",
    "\n",
    "予測モデルを作るために初めにすることは、「説明変数 x」と「目的変数 t」を分けることです。\n",
    "まずは、入力変数`x`と出力変数`t`に分けておきましょう。分割には`iloc[]`を用います。"
   ]
  },
  {
   "cell_type": "code",
   "execution_count": 12,
   "metadata": {},
   "outputs": [
    {
     "data": {
      "text/html": [
       "<div>\n",
       "<style scoped>\n",
       "    .dataframe tbody tr th:only-of-type {\n",
       "        vertical-align: middle;\n",
       "    }\n",
       "\n",
       "    .dataframe tbody tr th {\n",
       "        vertical-align: top;\n",
       "    }\n",
       "\n",
       "    .dataframe thead th {\n",
       "        text-align: right;\n",
       "    }\n",
       "</style>\n",
       "<table border=\"1\" class=\"dataframe\">\n",
       "  <thead>\n",
       "    <tr style=\"text-align: right;\">\n",
       "      <th></th>\n",
       "      <th>years</th>\n",
       "      <th>minutes</th>\n",
       "      <th>sqrm</th>\n",
       "      <th>distance</th>\n",
       "      <th>renovate</th>\n",
       "      <th>express</th>\n",
       "      <th>price</th>\n",
       "    </tr>\n",
       "  </thead>\n",
       "  <tbody>\n",
       "    <tr>\n",
       "      <td>0</td>\n",
       "      <td>34</td>\n",
       "      <td>3</td>\n",
       "      <td>35</td>\n",
       "      <td>2.983801</td>\n",
       "      <td>0</td>\n",
       "      <td>0</td>\n",
       "      <td>24000000</td>\n",
       "    </tr>\n",
       "    <tr>\n",
       "      <td>1</td>\n",
       "      <td>37</td>\n",
       "      <td>4</td>\n",
       "      <td>20</td>\n",
       "      <td>2.983801</td>\n",
       "      <td>0</td>\n",
       "      <td>0</td>\n",
       "      <td>13000000</td>\n",
       "    </tr>\n",
       "    <tr>\n",
       "      <td>2</td>\n",
       "      <td>34</td>\n",
       "      <td>3</td>\n",
       "      <td>30</td>\n",
       "      <td>2.983801</td>\n",
       "      <td>0</td>\n",
       "      <td>0</td>\n",
       "      <td>22000000</td>\n",
       "    </tr>\n",
       "    <tr>\n",
       "      <td>3</td>\n",
       "      <td>35</td>\n",
       "      <td>1</td>\n",
       "      <td>70</td>\n",
       "      <td>2.983801</td>\n",
       "      <td>0</td>\n",
       "      <td>0</td>\n",
       "      <td>69000000</td>\n",
       "    </tr>\n",
       "    <tr>\n",
       "      <td>4</td>\n",
       "      <td>34</td>\n",
       "      <td>3</td>\n",
       "      <td>25</td>\n",
       "      <td>2.983801</td>\n",
       "      <td>0</td>\n",
       "      <td>0</td>\n",
       "      <td>21000000</td>\n",
       "    </tr>\n",
       "  </tbody>\n",
       "</table>\n",
       "</div>"
      ],
      "text/plain": [
       "   years  minutes  sqrm  distance  renovate  express     price\n",
       "0     34        3    35  2.983801         0        0  24000000\n",
       "1     37        4    20  2.983801         0        0  13000000\n",
       "2     34        3    30  2.983801         0        0  22000000\n",
       "3     35        1    70  2.983801         0        0  69000000\n",
       "4     34        3    25  2.983801         0        0  21000000"
      ]
     },
     "execution_count": 12,
     "metadata": {},
     "output_type": "execute_result"
    }
   ],
   "source": [
    "#データフレーム df には何が入っているか確認します。　→　何が目的変数ですか？\n",
    "\n",
    "df.head()"
   ]
  },
  {
   "cell_type": "code",
   "execution_count": 13,
   "metadata": {
    "colab": {},
    "colab_type": "code",
    "id": "t-aCuMqp6eLB"
   },
   "outputs": [],
   "source": [
    "#priceは除く\n",
    "x = df.iloc[:, :-1] \n",
    "\n",
    "#priceだけ保持する\n",
    "t = df.iloc[:, -1] "
   ]
  },
  {
   "cell_type": "markdown",
   "metadata": {
    "colab_type": "text",
    "id": "BrvruFgO6eLC"
   },
   "source": [
    "#### scikit-learnのimport\n",
    "データの準備ができたのでscikit-learnをimportしましょう。scikit-learnは`sklearn`という名前でimportしますが、今回は`sklearn`の中の`linear_model`（線形モデル）の中の`LinearRegression`（線形回帰）をimportします。つまり、重回帰分析を実装するための機能をピンポイントでimportするイメージです。"
   ]
  },
  {
   "cell_type": "code",
   "execution_count": 14,
   "metadata": {
    "colab": {},
    "colab_type": "code",
    "id": "nFu6pZcO6eLD"
   },
   "outputs": [],
   "source": [
    "# Linear Regression の　インポート\n",
    "from sklearn.linear_model import LinearRegression"
   ]
  },
  {
   "cell_type": "markdown",
   "metadata": {
    "colab_type": "text",
    "id": "DOHjOvfKyxyF"
   },
   "source": [
    "#### モデルの宣言\n",
    "\n",
    "まずは、モデル（手法）の宣言を行います。先程importした`LinearRegression()`を`model`という変数に代入してあげます。厳密には「クラスのインスタンス化」というものにあたりますが、気になる方は調べてみてください。"
   ]
  },
  {
   "cell_type": "code",
   "execution_count": 15,
   "metadata": {
    "colab": {},
    "colab_type": "code",
    "id": "P5pmzS5VyxyF"
   },
   "outputs": [],
   "source": [
    "# ①モデルの宣言\n",
    "model = LinearRegression()"
   ]
  },
  {
   "cell_type": "markdown",
   "metadata": {
    "colab_type": "text",
    "id": "G1MNAb0MyxyI"
   },
   "source": [
    "#### モデルの学習\n",
    "\n",
    "モデルの宣言後、**モデルの学習**を行います。モデルの学習とは、手持ちのデータを用いて適切なパラーメータを求めることです。"
   ]
  },
  {
   "cell_type": "code",
   "execution_count": 16,
   "metadata": {
    "colab": {
     "base_uri": "https://localhost:8080/",
     "height": 51
    },
    "colab_type": "code",
    "executionInfo": {
     "elapsed": 1404,
     "status": "ok",
     "timestamp": 1554871546228,
     "user": {
      "displayName": "西沢衛",
      "photoUrl": "",
      "userId": "12011220225445512117"
     },
     "user_tz": -540
    },
    "id": "-Eorr9D8yxyI",
    "outputId": "f7db9c83-0681-4672-c5e2-3df8fcf4ee28"
   },
   "outputs": [
    {
     "data": {
      "text/plain": [
       "LinearRegression(copy_X=True, fit_intercept=True, n_jobs=None, normalize=False)"
      ]
     },
     "execution_count": 16,
     "metadata": {},
     "output_type": "execute_result"
    }
   ],
   "source": [
    "# ②モデルの学習\n",
    "model.fit(x, t)"
   ]
  },
  {
   "cell_type": "markdown",
   "metadata": {
    "colab_type": "text",
    "id": "vcLmuCjqyxyK"
   },
   "source": [
    "#### モデルの評価\n",
    "\n",
    "学習後のモデルを評価しましょう。モデルの評価には決定係数という指標を用います。  決定係数とは、モデルの当てはまりの良さを0から1までの値で表す指標になります。 1に近い方がより良いモデルを表しています。`score()`で評価することができます。評価するには、データも一緒に渡す必要があるため()内に、`x`と`t`を入れております。"
   ]
  },
  {
   "cell_type": "code",
   "execution_count": 17,
   "metadata": {
    "colab": {
     "base_uri": "https://localhost:8080/",
     "height": 34
    },
    "colab_type": "code",
    "executionInfo": {
     "elapsed": 660,
     "status": "ok",
     "timestamp": 1554871548393,
     "user": {
      "displayName": "西沢衛",
      "photoUrl": "",
      "userId": "12011220225445512117"
     },
     "user_tz": -540
    },
    "id": "QaXozWyWyxyK",
    "outputId": "17782d2b-f6e8-407a-b0fd-fe072e8ed28d"
   },
   "outputs": [
    {
     "data": {
      "text/plain": [
       "0.7928091871992431"
      ]
     },
     "execution_count": 17,
     "metadata": {},
     "output_type": "execute_result"
    }
   ],
   "source": [
    "# モデルの評価\n",
    "model.score(x, t)"
   ]
  },
  {
   "cell_type": "markdown",
   "metadata": {
    "colab_type": "text",
    "id": "Bz_PENUhyxyN"
   },
   "source": [
    "0.79　という数値が出てきました。最大が1であることを考えると悪くはない数字かと思います。\n",
    "\n",
    "> 補足：回帰と分類によって、`score()`を使用したときの評価指標が異なります。 分類は正解率（Accuracy）が評価指標になります。\n",
    "> - 回帰：決定係数  \n",
    "> - 分類：正解率（Accuracy）\n",
    "\n",
    "決定係数とは？？\n",
    "\n"
   ]
  },
  {
   "cell_type": "code",
   "execution_count": 18,
   "metadata": {},
   "outputs": [],
   "source": [
    "#③予測値をゲットしてみましょう。\n",
    "p = model.predict(x)\n",
    "\n",
    "#データフレームに変換します。\n",
    "p = pd.DataFrame(p,columns=['predict'])"
   ]
  },
  {
   "cell_type": "code",
   "execution_count": 19,
   "metadata": {
    "scrolled": true
   },
   "outputs": [
    {
     "data": {
      "text/html": [
       "<div>\n",
       "<style scoped>\n",
       "    .dataframe tbody tr th:only-of-type {\n",
       "        vertical-align: middle;\n",
       "    }\n",
       "\n",
       "    .dataframe tbody tr th {\n",
       "        vertical-align: top;\n",
       "    }\n",
       "\n",
       "    .dataframe thead th {\n",
       "        text-align: right;\n",
       "    }\n",
       "</style>\n",
       "<table border=\"1\" class=\"dataframe\">\n",
       "  <thead>\n",
       "    <tr style=\"text-align: right;\">\n",
       "      <th></th>\n",
       "      <th>uid</th>\n",
       "      <th>years</th>\n",
       "      <th>minutes</th>\n",
       "      <th>sqrm</th>\n",
       "      <th>distance</th>\n",
       "      <th>renovate</th>\n",
       "      <th>express</th>\n",
       "      <th>price</th>\n",
       "      <th>predict</th>\n",
       "    </tr>\n",
       "  </thead>\n",
       "  <tbody>\n",
       "    <tr>\n",
       "      <td>0</td>\n",
       "      <td>13101-1</td>\n",
       "      <td>34</td>\n",
       "      <td>3</td>\n",
       "      <td>35</td>\n",
       "      <td>2.983801</td>\n",
       "      <td>0</td>\n",
       "      <td>0</td>\n",
       "      <td>24000000</td>\n",
       "      <td>3.111981e+07</td>\n",
       "    </tr>\n",
       "    <tr>\n",
       "      <td>1</td>\n",
       "      <td>13101-2</td>\n",
       "      <td>37</td>\n",
       "      <td>4</td>\n",
       "      <td>20</td>\n",
       "      <td>2.983801</td>\n",
       "      <td>0</td>\n",
       "      <td>0</td>\n",
       "      <td>13000000</td>\n",
       "      <td>1.690843e+07</td>\n",
       "    </tr>\n",
       "    <tr>\n",
       "      <td>2</td>\n",
       "      <td>13101-4</td>\n",
       "      <td>34</td>\n",
       "      <td>3</td>\n",
       "      <td>30</td>\n",
       "      <td>2.983801</td>\n",
       "      <td>0</td>\n",
       "      <td>0</td>\n",
       "      <td>22000000</td>\n",
       "      <td>2.714181e+07</td>\n",
       "    </tr>\n",
       "    <tr>\n",
       "      <td>3</td>\n",
       "      <td>13101-5</td>\n",
       "      <td>35</td>\n",
       "      <td>1</td>\n",
       "      <td>70</td>\n",
       "      <td>2.983801</td>\n",
       "      <td>0</td>\n",
       "      <td>0</td>\n",
       "      <td>69000000</td>\n",
       "      <td>5.977734e+07</td>\n",
       "    </tr>\n",
       "    <tr>\n",
       "      <td>4</td>\n",
       "      <td>13101-6</td>\n",
       "      <td>34</td>\n",
       "      <td>3</td>\n",
       "      <td>25</td>\n",
       "      <td>2.983801</td>\n",
       "      <td>0</td>\n",
       "      <td>0</td>\n",
       "      <td>21000000</td>\n",
       "      <td>2.316382e+07</td>\n",
       "    </tr>\n",
       "    <tr>\n",
       "      <td>...</td>\n",
       "      <td>...</td>\n",
       "      <td>...</td>\n",
       "      <td>...</td>\n",
       "      <td>...</td>\n",
       "      <td>...</td>\n",
       "      <td>...</td>\n",
       "      <td>...</td>\n",
       "      <td>...</td>\n",
       "      <td>...</td>\n",
       "    </tr>\n",
       "    <tr>\n",
       "      <td>2994</td>\n",
       "      <td>13214-847</td>\n",
       "      <td>19</td>\n",
       "      <td>4</td>\n",
       "      <td>20</td>\n",
       "      <td>25.956039</td>\n",
       "      <td>0</td>\n",
       "      <td>1</td>\n",
       "      <td>17000000</td>\n",
       "      <td>1.109275e+07</td>\n",
       "    </tr>\n",
       "    <tr>\n",
       "      <td>2995</td>\n",
       "      <td>13214-848</td>\n",
       "      <td>21</td>\n",
       "      <td>1</td>\n",
       "      <td>80</td>\n",
       "      <td>25.956039</td>\n",
       "      <td>0</td>\n",
       "      <td>1</td>\n",
       "      <td>65000000</td>\n",
       "      <td>5.977867e+07</td>\n",
       "    </tr>\n",
       "    <tr>\n",
       "      <td>2996</td>\n",
       "      <td>13214-849</td>\n",
       "      <td>21</td>\n",
       "      <td>1</td>\n",
       "      <td>65</td>\n",
       "      <td>25.956039</td>\n",
       "      <td>0</td>\n",
       "      <td>1</td>\n",
       "      <td>42000000</td>\n",
       "      <td>4.784467e+07</td>\n",
       "    </tr>\n",
       "    <tr>\n",
       "      <td>2997</td>\n",
       "      <td>13214-850</td>\n",
       "      <td>15</td>\n",
       "      <td>3</td>\n",
       "      <td>25</td>\n",
       "      <td>25.956039</td>\n",
       "      <td>0</td>\n",
       "      <td>1</td>\n",
       "      <td>19000000</td>\n",
       "      <td>1.788288e+07</td>\n",
       "    </tr>\n",
       "    <tr>\n",
       "      <td>2998</td>\n",
       "      <td>13214-851</td>\n",
       "      <td>14</td>\n",
       "      <td>2</td>\n",
       "      <td>20</td>\n",
       "      <td>25.956039</td>\n",
       "      <td>0</td>\n",
       "      <td>1</td>\n",
       "      <td>14000000</td>\n",
       "      <td>1.511277e+07</td>\n",
       "    </tr>\n",
       "  </tbody>\n",
       "</table>\n",
       "<p>2999 rows × 9 columns</p>\n",
       "</div>"
      ],
      "text/plain": [
       "            uid  years  minutes  sqrm   distance  renovate  express     price  \\\n",
       "0       13101-1     34        3    35   2.983801         0        0  24000000   \n",
       "1       13101-2     37        4    20   2.983801         0        0  13000000   \n",
       "2       13101-4     34        3    30   2.983801         0        0  22000000   \n",
       "3       13101-5     35        1    70   2.983801         0        0  69000000   \n",
       "4       13101-6     34        3    25   2.983801         0        0  21000000   \n",
       "...         ...    ...      ...   ...        ...       ...      ...       ...   \n",
       "2994  13214-847     19        4    20  25.956039         0        1  17000000   \n",
       "2995  13214-848     21        1    80  25.956039         0        1  65000000   \n",
       "2996  13214-849     21        1    65  25.956039         0        1  42000000   \n",
       "2997  13214-850     15        3    25  25.956039         0        1  19000000   \n",
       "2998  13214-851     14        2    20  25.956039         0        1  14000000   \n",
       "\n",
       "           predict  \n",
       "0     3.111981e+07  \n",
       "1     1.690843e+07  \n",
       "2     2.714181e+07  \n",
       "3     5.977734e+07  \n",
       "4     2.316382e+07  \n",
       "...            ...  \n",
       "2994  1.109275e+07  \n",
       "2995  5.977867e+07  \n",
       "2996  4.784467e+07  \n",
       "2997  1.788288e+07  \n",
       "2998  1.511277e+07  \n",
       "\n",
       "[2999 rows x 9 columns]"
      ]
     },
     "execution_count": 19,
     "metadata": {},
     "output_type": "execute_result"
    }
   ],
   "source": [
    "#オリジナルのデータと連結します。\n",
    "results = pd.concat([data,p],axis=1)\n",
    "results"
   ]
  },
  {
   "cell_type": "code",
   "execution_count": 20,
   "metadata": {},
   "outputs": [],
   "source": [
    "#一度CSVに落としましょう。\n",
    "results.to_csv(\"results.LinearRegression.csv\")"
   ]
  },
  {
   "cell_type": "markdown",
   "metadata": {},
   "source": [
    "一度Tableauに戻って評価してみましょう。\n",
    "§ワーク　実績PRICEとPREDICTの差を誤差として、東京駅からの距離（つまり駅）ごとに誤差がどのように分布するか確認してください。そして誤差が多い駅はどこかディスカッションしてみてください。"
   ]
  },
  {
   "cell_type": "code",
   "execution_count": 21,
   "metadata": {},
   "outputs": [
    {
     "data": {
      "text/html": [
       "<div class='tableauPlaceholder' id='viz1579753119257' style='position: relative'><noscript><a href='#'><img alt=' ' src='https:&#47;&#47;public.tableau.com&#47;static&#47;images&#47;To&#47;TokyoChuoLineHousingPrice&#47;sheet2&#47;1_rss.png' style='border: none' /></a></noscript><object class='tableauViz'  style='display:none;'><param name='host_url' value='https%3A%2F%2Fpublic.tableau.com%2F' /> <param name='embed_code_version' value='3' /> <param name='site_root' value='' /><param name='name' value='TokyoChuoLineHousingPrice&#47;sheet2' /><param name='tabs' value='yes' /><param name='toolbar' value='yes' /><param name='static_image' value='https:&#47;&#47;public.tableau.com&#47;static&#47;images&#47;To&#47;TokyoChuoLineHousingPrice&#47;sheet2&#47;1.png' /> <param name='animate_transition' value='yes' /><param name='display_static_image' value='yes' /><param name='display_spinner' value='yes' /><param name='display_overlay' value='yes' /><param name='display_count' value='yes' /><param name='filter' value='publish=yes' /></object></div>                <script type='text/javascript'>                    var divElement = document.getElementById('viz1579753119257');                    var vizElement = divElement.getElementsByTagName('object')[0];                    vizElement.style.width='100%';vizElement.style.height=(divElement.offsetWidth*0.75)+'px';                    var scriptElement = document.createElement('script');                    scriptElement.src = 'https://public.tableau.com/javascripts/api/viz_v1.js';                    vizElement.parentNode.insertBefore(scriptElement, vizElement);                </script>\n"
      ],
      "text/plain": [
       "<IPython.core.display.HTML object>"
      ]
     },
     "metadata": {},
     "output_type": "display_data"
    }
   ],
   "source": [
    "%%HTML\n",
    "<div class='tableauPlaceholder' id='viz1579753119257' style='position: relative'><noscript><a href='#'><img alt=' ' src='https:&#47;&#47;public.tableau.com&#47;static&#47;images&#47;To&#47;TokyoChuoLineHousingPrice&#47;sheet2&#47;1_rss.png' style='border: none' /></a></noscript><object class='tableauViz'  style='display:none;'><param name='host_url' value='https%3A%2F%2Fpublic.tableau.com%2F' /> <param name='embed_code_version' value='3' /> <param name='site_root' value='' /><param name='name' value='TokyoChuoLineHousingPrice&#47;sheet2' /><param name='tabs' value='yes' /><param name='toolbar' value='yes' /><param name='static_image' value='https:&#47;&#47;public.tableau.com&#47;static&#47;images&#47;To&#47;TokyoChuoLineHousingPrice&#47;sheet2&#47;1.png' /> <param name='animate_transition' value='yes' /><param name='display_static_image' value='yes' /><param name='display_spinner' value='yes' /><param name='display_overlay' value='yes' /><param name='display_count' value='yes' /><param name='filter' value='publish=yes' /></object></div>                <script type='text/javascript'>                    var divElement = document.getElementById('viz1579753119257');                    var vizElement = divElement.getElementsByTagName('object')[0];                    vizElement.style.width='100%';vizElement.style.height=(divElement.offsetWidth*0.75)+'px';                    var scriptElement = document.createElement('script');                    scriptElement.src = 'https://public.tableau.com/javascripts/api/viz_v1.js';                    vizElement.parentNode.insertBefore(scriptElement, vizElement);                </script>"
   ]
  },
  {
   "cell_type": "code",
   "execution_count": 22,
   "metadata": {},
   "outputs": [],
   "source": [
    "# sklearn から mean_squared_error をインポートします。\n",
    "from sklearn.metrics import mean_squared_error\n",
    "import math"
   ]
  },
  {
   "cell_type": "code",
   "execution_count": 23,
   "metadata": {},
   "outputs": [
    {
     "name": "stdout",
     "output_type": "stream",
     "text": [
      "RMSE: 9954675.510173228\n"
     ]
    }
   ],
   "source": [
    "#RMSEを計算します。\n",
    "mse = mean_squared_error(t, p)\n",
    "print('RMSE:', math.sqrt(mse))"
   ]
  },
  {
   "cell_type": "markdown",
   "metadata": {},
   "source": [
    "RMSEとは、Root Mean Square Error（二乗平均平方根誤差）の略で、回帰モデルの最も一般的な性能指標で以下の式で表現されます。\n",
    "参考　https://aizine.ai/rmse-rmsle1114/#toc1\n",
    "![RMSE](images/RMSE.png)"
   ]
  },
  {
   "cell_type": "markdown",
   "metadata": {
    "colab_type": "text",
    "id": "JxmUb_IFyxyN"
   },
   "source": [
    "## 訓練データと検証データに分割\n",
    "\n",
    "みなさん、前述のモデルの評価で実はやってはいけないことをしていました。なにかわかりますでしょうか。\n",
    "それは、学習に用いたデータをそのままモデルの評価に使用している点です。モデルは学習に用いたデータにうまく当てはめようと計算するのですから、うまくあてはまるのはごく自然なことですよね。\n",
    "理想は学習に使用するデータにうまくあてはまるだけではなく、新しいデータに対しても上手く当てはまることを確認する必要があります。\n",
    "\n",
    "ここで出てくるのが**訓練データ**と**検証データ**になります。手持ちのデータを2つに分割し、モデルの学習に用いる訓練データとモデルの評価に用いる検証データに分割します。このようにすることで、新しいデータへの汎用性も確かめることができます。分割の割合はだいたい7:3で行うことが多いです。理想は5:5で半分を学習に用い、半分を評価に用いることです。しかし、現実は理想通りに分割できるほどのサンプル数がありませんので、学習に用いるデータに多くの割合を割くことになります。\n",
    "このようにデータを訓練データと検証データに分割することを **ホールドアウト法** と呼びます。\n",
    "\n",
    "また、ここで抑えておきたい話の中に**過学習（オーバーフィッティング）**というものがあります。これは、訓練データにうまく当てはまりすぎてしまい、新しいデータへの汎用性を失ってしまうことを意味します。例えるならば、定期試験前に過去問をひたすら勉強し、過去問では100点をたくさん取ることができるが、実際の試験では60点くらいしか取れないようなイメージです。過去のデータに**学習**し**過**ぎてしまう現象です。\n",
    "\n",
    "上記のことを踏まえ、実際にホールドアウト法でもう一度実装してみましょう。\n",
    "`sklearn`の中の`model_selection`の中に`train_test_split`がありますので、こちらをimportしましょう。\n",
    "\n"
   ]
  },
  {
   "cell_type": "code",
   "execution_count": 24,
   "metadata": {
    "colab": {},
    "colab_type": "code",
    "id": "trGhfCrCyxyN"
   },
   "outputs": [],
   "source": [
    "from sklearn.model_selection import train_test_split"
   ]
  },
  {
   "cell_type": "markdown",
   "metadata": {
    "colab_type": "text",
    "id": "pulsGeFr6eLL"
   },
   "source": [
    "それぞれ以下の変数名で定義します。\n",
    "- `x`の訓練データ：`x_train`\n",
    "- `t`の訓練データ：`t_train`\n",
    "- `x`の検証データ：`x_val`\n",
    "- `t`の検証データ：`t_val`\n",
    "\n",
    "`val`は`validation`（検証）の略です。検証データの割合を全体の30%（0.3）とし、ランダムに分割します。下記のコードを実行するたびに異なるランダムでデータが分割されるのを防ぐために`random_state=3`を指定します。指定する数値は何でも構いませんが、同じ数値にしておくと同じ結果になりますので、今回は3にしておくことをオススメいたします。実行するたびに分割されるデータが変わらないように**再現性の確保**を行っております。各データの`shape`も確認しておきましょう。\n",
    "\n",
    "![holdout](images/holdout.png)"
   ]
  },
  {
   "cell_type": "code",
   "execution_count": 25,
   "metadata": {
    "colab": {
     "base_uri": "https://localhost:8080/",
     "height": 51
    },
    "colab_type": "code",
    "executionInfo": {
     "elapsed": 1154,
     "status": "ok",
     "timestamp": 1554871675145,
     "user": {
      "displayName": "西沢衛",
      "photoUrl": "",
      "userId": "12011220225445512117"
     },
     "user_tz": -540
    },
    "id": "sUEu-IpsyxyP",
    "outputId": "561702c0-2d6f-43ed-ff24-a46274cc00e1"
   },
   "outputs": [
    {
     "name": "stdout",
     "output_type": "stream",
     "text": [
      "訓練データ :  (2099, 6) (2099,)\n",
      "検証データ :  (900, 6) (900,)\n"
     ]
    }
   ],
   "source": [
    "x_train, x_val, t_train, t_val = train_test_split(x, t, test_size=0.3, random_state=3)\n",
    "print('訓練データ : ', x_train.shape, t_train.shape)\n",
    "print('検証データ : ', x_val.shape, t_val.shape)"
   ]
  },
  {
   "cell_type": "markdown",
   "metadata": {
    "colab_type": "text",
    "id": "QZH1dLiRyxyQ"
   },
   "source": [
    "行数を確認すると、7:3の割合で分割できていることがわかるかと思います。\n",
    "それでは、先程と同様にモデルの宣言から評価までを行いましょう。"
   ]
  },
  {
   "cell_type": "code",
   "execution_count": 26,
   "metadata": {
    "colab": {},
    "colab_type": "code",
    "id": "MLM5owF7yxyQ"
   },
   "outputs": [],
   "source": [
    "model = LinearRegression()"
   ]
  },
  {
   "cell_type": "markdown",
   "metadata": {
    "colab_type": "text",
    "id": "pGCh0qs_6eLP"
   },
   "source": [
    "学習には訓練データを用います。"
   ]
  },
  {
   "cell_type": "code",
   "execution_count": 27,
   "metadata": {
    "colab": {},
    "colab_type": "code",
    "id": "jBEOugTr6eLP",
    "outputId": "61181fe4-2b60-4c4f-afd0-4b363d1d2db0"
   },
   "outputs": [
    {
     "data": {
      "text/plain": [
       "LinearRegression(copy_X=True, fit_intercept=True, n_jobs=None, normalize=False)"
      ]
     },
     "execution_count": 27,
     "metadata": {},
     "output_type": "execute_result"
    }
   ],
   "source": [
    "model.fit(x_train, t_train)\n"
   ]
  },
  {
   "cell_type": "markdown",
   "metadata": {
    "colab_type": "text",
    "id": "p_6yLOCZyxyR"
   },
   "source": [
    "過学習が起きていないことを確認するために、モデルの評価は訓練データ、検証データの両方で行います。"
   ]
  },
  {
   "cell_type": "code",
   "execution_count": 28,
   "metadata": {
    "colab": {
     "base_uri": "https://localhost:8080/",
     "height": 34
    },
    "colab_type": "code",
    "executionInfo": {
     "elapsed": 807,
     "status": "ok",
     "timestamp": 1554871711809,
     "user": {
      "displayName": "西沢衛",
      "photoUrl": "",
      "userId": "12011220225445512117"
     },
     "user_tz": -540
    },
    "id": "JQziH0HDyxyR",
    "outputId": "8c77c37d-a9d4-4a04-8ae8-c77de5fdc8e2"
   },
   "outputs": [
    {
     "data": {
      "text/plain": [
       "0.7831603492195098"
      ]
     },
     "execution_count": 28,
     "metadata": {},
     "output_type": "execute_result"
    }
   ],
   "source": [
    "model.score(x_train, t_train)"
   ]
  },
  {
   "cell_type": "code",
   "execution_count": 29,
   "metadata": {
    "colab": {
     "base_uri": "https://localhost:8080/",
     "height": 34
    },
    "colab_type": "code",
    "executionInfo": {
     "elapsed": 690,
     "status": "ok",
     "timestamp": 1554871720813,
     "user": {
      "displayName": "西沢衛",
      "photoUrl": "",
      "userId": "12011220225445512117"
     },
     "user_tz": -540
    },
    "id": "lpm09xTqyxyS",
    "outputId": "a2ab38f1-1729-4995-ecae-df4249b3136d"
   },
   "outputs": [
    {
     "data": {
      "text/plain": [
       "0.8144570876578032"
      ]
     },
     "execution_count": 29,
     "metadata": {},
     "output_type": "execute_result"
    }
   ],
   "source": [
    "model.score(x_val, t_val)"
   ]
  },
  {
   "cell_type": "markdown",
   "metadata": {
    "colab_type": "text",
    "id": "Tz1jDG1RyxyT"
   },
   "source": [
    "訓練データと検証データへの決定係数の値がほぼ同じであるため、過学習が起きていないことがわかります。\n",
    "これで評価までの一連の流れはできました。最後に予測値をもとめましょう。"
   ]
  },
  {
   "cell_type": "markdown",
   "metadata": {
    "colab_type": "text",
    "id": "tdrXM5tCyxyU"
   },
   "source": [
    "#### RMSEでも評価してみましょう。"
   ]
  },
  {
   "cell_type": "code",
   "execution_count": 30,
   "metadata": {},
   "outputs": [],
   "source": [
    "# ここはおまじないと思って実行してください。\n",
    "\n",
    "from sklearn.metrics import mean_squared_error\n",
    "import math"
   ]
  },
  {
   "cell_type": "code",
   "execution_count": 31,
   "metadata": {},
   "outputs": [
    {
     "data": {
      "text/plain": [
       "pandas.core.frame.DataFrame"
      ]
     },
     "execution_count": 31,
     "metadata": {},
     "output_type": "execute_result"
    }
   ],
   "source": [
    "type(x_val)"
   ]
  },
  {
   "cell_type": "code",
   "execution_count": 32,
   "metadata": {},
   "outputs": [
    {
     "data": {
      "text/html": [
       "<div>\n",
       "<style scoped>\n",
       "    .dataframe tbody tr th:only-of-type {\n",
       "        vertical-align: middle;\n",
       "    }\n",
       "\n",
       "    .dataframe tbody tr th {\n",
       "        vertical-align: top;\n",
       "    }\n",
       "\n",
       "    .dataframe thead th {\n",
       "        text-align: right;\n",
       "    }\n",
       "</style>\n",
       "<table border=\"1\" class=\"dataframe\">\n",
       "  <thead>\n",
       "    <tr style=\"text-align: right;\">\n",
       "      <th></th>\n",
       "      <th>years</th>\n",
       "      <th>minutes</th>\n",
       "      <th>sqrm</th>\n",
       "      <th>distance</th>\n",
       "      <th>renovate</th>\n",
       "      <th>express</th>\n",
       "    </tr>\n",
       "  </thead>\n",
       "  <tbody>\n",
       "    <tr>\n",
       "      <td>1283</td>\n",
       "      <td>10</td>\n",
       "      <td>4</td>\n",
       "      <td>35</td>\n",
       "      <td>9.492734</td>\n",
       "      <td>0</td>\n",
       "      <td>1</td>\n",
       "    </tr>\n",
       "    <tr>\n",
       "      <td>250</td>\n",
       "      <td>46</td>\n",
       "      <td>8</td>\n",
       "      <td>30</td>\n",
       "      <td>6.580371</td>\n",
       "      <td>1</td>\n",
       "      <td>0</td>\n",
       "    </tr>\n",
       "    <tr>\n",
       "      <td>2153</td>\n",
       "      <td>25</td>\n",
       "      <td>18</td>\n",
       "      <td>55</td>\n",
       "      <td>31.925628</td>\n",
       "      <td>0</td>\n",
       "      <td>1</td>\n",
       "    </tr>\n",
       "    <tr>\n",
       "      <td>2239</td>\n",
       "      <td>45</td>\n",
       "      <td>19</td>\n",
       "      <td>60</td>\n",
       "      <td>17.027550</td>\n",
       "      <td>1</td>\n",
       "      <td>0</td>\n",
       "    </tr>\n",
       "    <tr>\n",
       "      <td>632</td>\n",
       "      <td>8</td>\n",
       "      <td>4</td>\n",
       "      <td>60</td>\n",
       "      <td>5.800329</td>\n",
       "      <td>0</td>\n",
       "      <td>0</td>\n",
       "    </tr>\n",
       "    <tr>\n",
       "      <td>...</td>\n",
       "      <td>...</td>\n",
       "      <td>...</td>\n",
       "      <td>...</td>\n",
       "      <td>...</td>\n",
       "      <td>...</td>\n",
       "      <td>...</td>\n",
       "    </tr>\n",
       "    <tr>\n",
       "      <td>2926</td>\n",
       "      <td>18</td>\n",
       "      <td>2</td>\n",
       "      <td>55</td>\n",
       "      <td>29.003514</td>\n",
       "      <td>0</td>\n",
       "      <td>0</td>\n",
       "    </tr>\n",
       "    <tr>\n",
       "      <td>577</td>\n",
       "      <td>19</td>\n",
       "      <td>6</td>\n",
       "      <td>55</td>\n",
       "      <td>4.152266</td>\n",
       "      <td>1</td>\n",
       "      <td>0</td>\n",
       "    </tr>\n",
       "    <tr>\n",
       "      <td>2191</td>\n",
       "      <td>16</td>\n",
       "      <td>16</td>\n",
       "      <td>70</td>\n",
       "      <td>31.925628</td>\n",
       "      <td>1</td>\n",
       "      <td>1</td>\n",
       "    </tr>\n",
       "    <tr>\n",
       "      <td>424</td>\n",
       "      <td>41</td>\n",
       "      <td>3</td>\n",
       "      <td>30</td>\n",
       "      <td>2.983801</td>\n",
       "      <td>0</td>\n",
       "      <td>0</td>\n",
       "    </tr>\n",
       "    <tr>\n",
       "      <td>845</td>\n",
       "      <td>35</td>\n",
       "      <td>4</td>\n",
       "      <td>15</td>\n",
       "      <td>9.492734</td>\n",
       "      <td>1</td>\n",
       "      <td>1</td>\n",
       "    </tr>\n",
       "  </tbody>\n",
       "</table>\n",
       "<p>900 rows × 6 columns</p>\n",
       "</div>"
      ],
      "text/plain": [
       "      years  minutes  sqrm   distance  renovate  express\n",
       "1283     10        4    35   9.492734         0        1\n",
       "250      46        8    30   6.580371         1        0\n",
       "2153     25       18    55  31.925628         0        1\n",
       "2239     45       19    60  17.027550         1        0\n",
       "632       8        4    60   5.800329         0        0\n",
       "...     ...      ...   ...        ...       ...      ...\n",
       "2926     18        2    55  29.003514         0        0\n",
       "577      19        6    55   4.152266         1        0\n",
       "2191     16       16    70  31.925628         1        1\n",
       "424      41        3    30   2.983801         0        0\n",
       "845      35        4    15   9.492734         1        1\n",
       "\n",
       "[900 rows x 6 columns]"
      ]
     },
     "execution_count": 32,
     "metadata": {},
     "output_type": "execute_result"
    }
   ],
   "source": [
    "pd.DataFrame(x_val)"
   ]
  },
  {
   "cell_type": "code",
   "execution_count": 33,
   "metadata": {},
   "outputs": [],
   "source": [
    "p_val = model.predict(x_val)\n",
    "p_train = model.predict(x_train)"
   ]
  },
  {
   "cell_type": "code",
   "execution_count": 34,
   "metadata": {},
   "outputs": [
    {
     "data": {
      "text/plain": [
       "array([ 3.95512921e+07,  1.82268293e+07,  2.15721278e+07,  2.74943981e+07,\n",
       "        6.23424823e+07,  3.60096736e+07,  2.21647547e+07,  2.33770982e+07,\n",
       "        5.57332463e+07,  4.04405285e+07,  3.41178031e+07,  3.76434229e+07,\n",
       "        5.50073983e+07,  1.90025397e+07,  1.11099451e+07,  1.90025397e+07,\n",
       "        5.20661386e+07,  3.54746965e+07,  2.54840460e+07,  3.75232378e+06,\n",
       "        5.26444824e+07,  5.84473099e+07,  4.18204625e+07,  3.92464676e+07,\n",
       "        5.15191059e+07,  4.46725865e+07,  3.16095885e+07,  3.91360108e+07,\n",
       "        8.37623354e+06,  4.64578688e+07,  5.81505077e+07,  4.43537545e+07,\n",
       "       -2.87375724e+06,  1.54237171e+07,  5.20465767e+07,  1.08671083e+07,\n",
       "       -5.50525486e+06,  5.29245172e+07,  9.02070860e+07,  5.55194942e+07,\n",
       "        6.39208241e+07,  5.40258723e+07,  5.02468328e+07,  5.55120817e+06,\n",
       "        2.89750752e+07,  4.80984056e+07,  3.18043571e+07,  1.55326592e+07,\n",
       "        1.49576646e+07,  5.97054827e+07,  3.98551374e+07,  9.16973442e+06,\n",
       "        5.21390235e+07,  3.37017382e+07,  3.79643380e+07,  2.84133314e+07,\n",
       "        2.33453621e+07,  1.97674507e+07,  3.85082110e+07,  3.50464336e+07,\n",
       "        5.97294395e+07,  2.97221419e+07,  3.60096736e+07,  7.84517091e+06,\n",
       "        3.13286837e+07,  3.13594067e+07,  3.23016791e+07, -6.05119491e+06,\n",
       "        6.58507085e+07,  2.49433524e+07,  2.33033058e+07,  4.48897699e+07,\n",
       "        3.38016722e+07,  2.57458998e+07,  3.41553291e+07,  4.05757011e+07,\n",
       "        4.66556874e+07,  3.14683031e+07,  2.23203982e+07,  7.97526045e+06,\n",
       "        3.03243048e+07,  4.14015259e+07,  3.32440927e+07,  1.28129866e+08,\n",
       "        4.77595325e+07,  1.31862171e+07,  2.75354131e+07,  6.72305107e+07,\n",
       "        1.62104450e+07,  4.38431408e+07,  5.17893291e+07,  4.50568255e+07,\n",
       "        1.97264072e+07,  1.76544112e+07,  2.91547959e+07,  3.18878301e+07,\n",
       "        2.02579996e+07,  3.60096736e+07,  4.78539316e+07,  4.39818401e+07,\n",
       "        3.47317247e+07,  4.87784946e+07,  5.89310253e+07,  1.88792702e+07,\n",
       "        6.84595333e+07,  5.71354485e+07,  3.90721108e+07,  6.65933369e+07,\n",
       "        9.70735985e+06,  4.39871952e+07,  3.58741702e+07,  3.60664668e+07,\n",
       "        8.91772273e+07,  5.34296527e+07,  1.47549288e+07,  4.51355073e+07,\n",
       "        4.09743141e+07,  4.86138410e+07,  2.64823163e+07,  4.95954648e+07,\n",
       "        5.58052358e+07,  3.95977561e+07,  3.72601983e+07,  4.07971048e+07,\n",
       "        3.49888251e+07,  3.49004737e+07,  8.01823115e+06,  1.21893019e+07,\n",
       "        1.48094425e+07,  3.60961808e+07,  4.60730988e+07,  1.14550391e+07,\n",
       "       -3.67107756e+06,  2.91754597e+07,  6.12100700e+07,  2.92538431e+07,\n",
       "        4.67871509e+07,  2.02063609e+07,  8.40977326e+06,  5.87370585e+07,\n",
       "        1.23020609e+07,  3.39636490e+07,  4.84296080e+07,  4.31437272e+07,\n",
       "       -1.38641615e+07,  6.53063354e+07,  3.77904243e+07,  6.68960928e+07,\n",
       "        3.05668985e+07,  4.34601264e+07,  1.58829637e+07,  7.09439509e+07,\n",
       "        5.39729476e+07,  4.52360149e+07,  6.19376964e+07,  9.39856372e+06,\n",
       "        5.95737960e+07,  2.81974806e+07,  1.70716762e+07,  2.77881682e+07,\n",
       "        1.74729499e+07,  4.76778319e+07,  3.52237299e+07,  3.94883253e+07,\n",
       "        3.27397748e+07,  4.15201722e+07,  4.89806531e+07,  4.17249614e+07,\n",
       "        4.46536040e+07,  3.20514973e+07,  2.42208857e+07,  5.27156030e+07,\n",
       "        1.54805019e+07,  2.51257984e+07,  1.52484815e+07,  7.32058989e+07,\n",
       "        3.65550792e+07,  2.72263962e+07,  6.52085562e+07,  7.84517091e+06,\n",
       "        4.92961349e+07,  3.92648751e+07,  1.29671124e+07,  2.49433524e+07,\n",
       "        4.65797548e+07,  8.66735111e+06,  3.10748307e+07,  3.32440927e+07,\n",
       "        5.34342395e+07,  6.04260643e+07,  7.00712143e+07,  1.91129965e+07,\n",
       "        8.42966363e+06,  3.54217424e+07,  4.40068086e+07,  3.55491809e+07,\n",
       "        5.07477377e+07,  4.67148893e+07,  4.69792957e+07,  2.34137626e+07,\n",
       "        1.88221795e+07,  2.66979140e+07,  6.91575168e+07,  1.07217872e+07,\n",
       "        6.07260323e+07,  1.86714464e+07,  4.03691236e+07,  5.59456349e+07,\n",
       "        6.65202693e+07,  5.92308248e+07,  3.24584312e+07,  3.29187919e+07,\n",
       "        3.65550792e+07,  1.62495669e+07,  2.65120641e+07,  1.53349815e+07,\n",
       "        4.03426253e+07,  3.12247707e+07,  3.03890959e+07,  2.80620710e+07,\n",
       "       -6.83193349e+06,  4.06306489e+07,  2.64379905e+07,  3.10290631e+07,\n",
       "        1.63121182e+07,  2.72445962e+07,  4.44714317e+07,  4.83356885e+07,\n",
       "        4.47053268e+07,  5.03385014e+07,  2.89112533e+07,  5.22808825e+07,\n",
       "        4.28113778e+07,  2.92264056e+07,  3.21370254e+07,  7.36715909e+07,\n",
       "        6.96176990e+07,  1.67808593e+07,  6.08671297e+07,  2.29671727e+07,\n",
       "        3.71285136e+07,  3.97047082e+07,  2.80276464e+07,  4.95550234e+07,\n",
       "       -1.66153017e+06,  4.74556872e+07,  5.80885012e+07,  3.31735162e+07,\n",
       "        1.70716762e+07,  2.02424136e+07,  1.04044244e+07,  2.16012406e+07,\n",
       "        3.64137291e+07,  1.97264072e+07,  2.40847749e+07,  5.51182945e+07,\n",
       "        1.01242238e+07,  3.95073571e+07,  1.92495133e+07,  5.26365786e+07,\n",
       "        5.44831485e+07,  6.00142679e+07,  4.50548777e+07,  1.03811901e+07,\n",
       "        2.10166121e+07,  1.64779072e+07,  3.56682382e+07,  5.67651145e+07,\n",
       "        2.13151150e+07,  8.18311311e+07,  3.47696242e+07,  2.64379905e+07,\n",
       "        3.87930705e+07,  1.71908159e+07,  1.98473867e+07,  3.98323464e+07,\n",
       "        1.30408086e+07,  1.56053302e+07,  5.40258723e+07,  1.01270375e+07,\n",
       "        2.39953965e+07,  7.84816247e+07,  5.22880213e+07,  2.24345936e+07,\n",
       "        4.35747383e+07,  6.64705699e+07,  4.11601594e+07,  5.91878696e+07,\n",
       "        2.65525055e+07,  6.54870783e+07,  4.39078044e+07,  2.66979140e+07,\n",
       "        4.54168509e+07,  6.12495559e+07,  1.00022726e+07,  6.12380851e+07,\n",
       "        1.28129866e+08,  4.24895624e+07,  2.89185190e+07,  2.76897917e+07,\n",
       "        4.03691236e+07,  5.39527698e+06,  2.95489050e+07,  2.32793491e+07,\n",
       "        1.65986593e+07,  5.07795075e+07,  4.30130695e+07,  3.61853295e+07,\n",
       "        4.10459301e+07,  5.10771494e+07,  1.05143037e+07,  5.60661764e+07,\n",
       "        3.68721414e+07,  1.43718747e+07, -9.09187872e+06,  2.87395146e+07,\n",
       "        4.76601603e+07,  1.23836697e+07,  4.84296080e+07,  5.06343803e+07,\n",
       "        1.69763280e+07,  4.25315219e+06,  9.12175429e+06,  1.86004243e+07,\n",
       "        5.45315986e+07,  3.45821931e+07,  5.75707258e+07,  3.43928102e+07,\n",
       "        7.28677815e+07, -1.28212257e+07,  2.68400971e+07,  6.04741325e+07,\n",
       "        2.08877478e+07,  1.10713380e+07,  6.38444950e+07,  4.86560268e+07,\n",
       "        2.80276464e+07,  5.90135910e+07,  3.64137291e+07,  3.47458565e+07,\n",
       "        4.64752556e+07,  3.15142301e+07,  4.91666519e+07,  4.86307628e+07,\n",
       "        3.10081062e+07,  1.36965162e+07,  9.75824239e+06,  5.95523606e+07,\n",
       "        6.68473407e+07,  5.59212059e+07,  9.35944178e+06,  6.77245783e+07,\n",
       "        7.00712143e+07,  5.64284022e+07, -2.87375724e+06,  4.31679795e+07,\n",
       "        5.13895073e+07,  3.23690218e+07,  4.12106639e+07,  3.96802825e+07,\n",
       "        4.17890302e+07,  1.41956705e+07,  4.90936836e+07,  1.31874936e+07,\n",
       "        4.43050481e+07,  9.42445868e+06,  1.60410797e+07,  1.07086714e+07,\n",
       "        4.19826719e+07, -6.83193349e+06,  3.79790091e+05,  2.96400419e+07,\n",
       "        3.67547648e+07,  1.43769788e+07,  3.56682382e+07,  1.15707578e+07,\n",
       "        6.21688693e+07,  6.38236144e+07,  5.51182945e+07,  8.18771593e+07,\n",
       "        6.46985384e+07,  6.05230917e+07,  5.84082249e+07,  4.66423971e+07,\n",
       "        2.99114722e+07,  2.45071270e+07,  2.63718595e+07,  3.53203647e+07,\n",
       "        5.93192706e+07,  4.65056811e+07,  2.25482484e+07,  4.68785571e+07,\n",
       "        3.14402712e+07,  4.97407770e+07,  7.32323385e+06,  4.41832685e+07,\n",
       "        4.68860107e+07,  8.76634062e+06, -2.87375724e+06,  2.33033058e+07,\n",
       "        3.34134916e+07,  2.06988934e+07,  7.37887384e+07,  6.46006199e+07,\n",
       "        4.48427319e+07,  3.95613079e+07,  4.51214998e+07,  5.65471153e+07,\n",
       "        1.18299012e+07,  2.90116027e+07,  5.65028398e+07,  5.13880554e+07,\n",
       "        1.72477792e+07,  3.64921125e+07,  2.04430281e+07,  1.57364542e+07,\n",
       "        2.07684329e+07,  1.09966747e+07,  6.56366200e+07,  6.09752641e+06,\n",
       "        8.09094126e+06,  1.31874936e+07,  2.14203757e+07,  9.84916062e+06,\n",
       "        1.72379642e+07,  5.65471153e+07, -1.28212257e+07,  3.52268970e+07,\n",
       "        1.00901907e+08,  1.59783119e+07,  1.17772988e+07,  3.46242157e+07,\n",
       "        4.55739066e+07,  3.25520020e+07,  5.29173950e+07,  3.19858227e+07,\n",
       "        3.98151650e+07,  6.11734057e+07,  1.99962800e+07, -6.78622556e+05,\n",
       "        6.93863461e+07,  4.14088243e+07,  3.77996600e+07,  7.77749298e+07,\n",
       "        5.53571290e+07,  4.30349928e+07,  2.53446261e+07,  2.83239530e+07,\n",
       "        7.78729548e+07,  2.40341030e+07,  5.43546705e+07,  5.66478843e+07,\n",
       "        3.98281015e+07,  2.50174261e+07,  4.13777438e+07,  4.24020964e+07,\n",
       "        2.81788492e+07,  1.44085093e+07,  2.53209902e+07,  5.30632936e+07,\n",
       "        8.49644882e+04, -3.02029799e+06,  4.65375690e+07,  4.57191914e+07,\n",
       "        3.33345251e+07,  2.45420787e+07,  1.10713380e+07,  4.01430760e+07,\n",
       "        2.79186210e+07,  2.42160094e+07,  6.01307132e+07,  5.92704255e+07,\n",
       "        4.78569609e+07,  2.66979140e+07,  4.67036039e+07,  2.57499581e+07,\n",
       "        5.57684496e+07,  4.16777180e+07,  9.08821399e+07,  7.84517091e+06,\n",
       "        4.61570097e+07,  1.23927906e+07,  2.81469146e+07,  4.44417041e+07,\n",
       "        6.78481787e+07,  3.01364440e+07,  3.54617149e+07,  4.44605064e+06,\n",
       "        1.03389678e+07,  4.94291769e+07,  2.98469478e+07,  8.20010327e+05,\n",
       "        4.45888252e+07,  6.23427652e+07,  2.88934787e+07,  3.58845136e+07,\n",
       "        2.41408050e+07,  2.11038461e+07,  2.72263962e+07,  2.66431838e+07,\n",
       "        1.13658103e+07,  4.62851992e+07,  3.53372506e+07,  3.52024218e+07,\n",
       "        5.26216793e+07,  3.08127245e+07,  2.25660284e+07,  1.71279833e+07,\n",
       "        3.54382340e+07,  2.52435434e+07,  1.75676935e+07,  2.91842956e+07,\n",
       "        4.87784946e+07,  3.60096736e+07,  2.83058872e+07,  6.64290456e+07,\n",
       "        6.12411643e+07, -7.47739882e+06,  2.58913083e+07,  2.56115242e+07,\n",
       "        3.99496281e+07,  6.04690201e+07,  2.25241400e+07,  7.70548240e+07,\n",
       "        5.38255005e+07,  1.61177505e+07,  5.39729476e+07,  6.04260643e+07,\n",
       "        5.78992725e+07,  5.65849175e+07,  2.11550839e+07,  5.24702259e+07,\n",
       "        1.75676935e+07,  5.83312506e+07,  5.87805919e+07,  4.98673242e+07,\n",
       "        4.88009081e+07,  3.60961808e+07,  4.92250845e+07,  2.92017197e+07,\n",
       "        4.14118694e+07,  2.43966702e+07,  5.39583707e+07,  4.02393768e+07,\n",
       "        7.10403475e+07,  1.69210773e+07,  4.82832204e+07,  2.09962830e+07,\n",
       "        5.19255939e+07,  3.50464336e+07,  4.61453769e+06, -6.83193349e+06,\n",
       "        1.29838453e+07,  4.98732403e+07,  3.74369042e+07,  2.81469146e+07,\n",
       "        4.57682743e+07,  6.69192397e+07,  2.36601465e+07,  6.09708763e+07,\n",
       "        2.20268895e+07,  3.55811584e+07,  2.43966702e+07,  3.94883253e+07,\n",
       "        5.29004628e+07,  3.58850038e+07,  1.04493784e+07,  2.97039419e+07,\n",
       "        1.86575731e+07,  4.16771042e+07,  2.86287775e+07,  5.16747184e+07,\n",
       "        1.00022726e+07,  1.89987727e+07,  4.95320828e+07,  3.78226636e+06,\n",
       "        4.11773311e+07,  2.89836480e+07,  2.00372203e+07,  4.28113778e+07,\n",
       "        7.21506504e+07,  1.23927906e+07,  4.14681480e+07,  6.41979148e+07,\n",
       "       -1.28212257e+07,  3.09178987e+07,  5.25051777e+07,  9.02768455e+06,\n",
       "        4.68125557e+07,  6.69127610e+07,  4.22956757e+07,  1.53001047e+07,\n",
       "        4.06696367e+07,  5.65471153e+07,  4.10459301e+07,  1.05677971e+07,\n",
       "        1.11605070e+08,  5.06806276e+07,  4.43050481e+07,  4.67122044e+07,\n",
       "        2.61471735e+07,  2.69482896e+07,  1.46422481e+07,  3.82218779e+07,\n",
       "        3.56348546e+07,  3.68178811e+07,  4.04992480e+07,  1.69752270e+07,\n",
       "        8.90084078e+06,  5.23597692e+07,  2.58913083e+07,  2.80622737e+07,\n",
       "       -3.44224827e+06,  5.73761394e+06,  1.22357881e+07,  2.43099456e+07,\n",
       "        6.60957481e+07,  5.23373936e+07,  1.91103764e+07,  1.24820651e+07,\n",
       "        5.08576430e+07,  1.60346189e+07,  4.41327297e+07,  6.90590594e+07,\n",
       "        4.52599716e+07,  2.88018975e+07,  3.58349735e+07,  1.32593116e+07,\n",
       "        5.35924295e+06,  5.34342395e+07,  1.47889014e+07,  3.10165095e+07,\n",
       "        2.80037267e+07,  2.35563574e+07,  3.38369524e+07,  1.05143037e+07,\n",
       "        7.76114837e+07,  6.31979118e+07,  2.60954006e+07,  2.33100929e+07,\n",
       "        3.41519712e+07,  1.57375552e+07,  2.41058533e+07,  4.13473268e+07,\n",
       "        3.83271108e+07,  2.86562431e+07,  1.16146047e+07,  2.41408050e+07,\n",
       "        2.00372203e+07,  1.89134383e+07,  4.03578978e+07,  4.55408393e+07,\n",
       "        2.18879453e+07,  3.16095885e+07,  4.49324903e+07,  2.53137104e+07,\n",
       "        6.46985384e+07,  4.39204666e+07,  5.47883556e+07,  1.69420215e+07,\n",
       "        1.84209058e+07,  8.16363963e+06,  4.94609537e+07,  2.61035321e+07,\n",
       "        5.43020665e+07,  7.46571593e+07,  4.82527567e+07,  8.40977326e+06,\n",
       "        3.47845798e+07,  9.08858990e+06,  3.28895320e+07,  2.49013298e+07,\n",
       "        5.08062975e+07,  6.31758853e+07,  3.65550792e+07,  5.81281018e+07,\n",
       "        3.68721414e+07,  6.51993405e+07,  4.30000411e+07,  4.92680552e+07,\n",
       "        3.64137291e+07,  4.27920265e+07,  2.50648420e+07,  4.74666654e+07,\n",
       "        3.15185589e+07,  2.04568644e+07,  2.39604448e+07,  4.04688719e+07,\n",
       "        4.70448752e+07,  1.32449009e+07,  2.21372244e+07,  7.38167535e+07,\n",
       "        6.18601265e+06, -1.05980759e+07,  5.75707258e+07,  4.55147235e+07,\n",
       "        7.33666320e+06,  1.81667868e+07,  6.54014547e+07,  2.77855075e+07,\n",
       "        3.23537824e+07,  4.93032535e+07,  3.34514888e+07,  2.86223087e+07,\n",
       "        3.04131571e+07,  3.46242157e+07,  4.05132555e+07,  4.62635011e+07,\n",
       "        1.35577631e+07,  8.43243008e+06,  3.40026094e+07,  5.88918062e+07,\n",
       "        3.96896297e+07,  3.83800202e+07,  5.35896468e+07,  1.92485308e+07,\n",
       "       -7.07612511e+06,  3.66925251e+07,  2.38276125e+07,  5.62018285e+07,\n",
       "        5.14186003e+07,  1.91129965e+07,  1.27706352e+07,  3.78226636e+06,\n",
       "        1.17877276e+07,  4.02609453e+07,  1.52670232e+07,  1.03545050e+07,\n",
       "        4.13917513e+07,  3.45770685e+07,  2.32008681e+07,  4.58645999e+07,\n",
       "        5.75952250e+07,  1.32449009e+07,  4.10814627e+07,  2.34365188e+07,\n",
       "        2.62713540e+07,  1.49307318e+07,  4.04835278e+07,  1.68672616e+07,\n",
       "        3.52586574e+07,  3.96165621e+07,  3.39576034e+07,  1.44085093e+07,\n",
       "        2.25241400e+07,  5.46959647e+07,  1.74454250e+07,  1.72379642e+07,\n",
       "        5.17068752e+07,  5.99626479e+07,  1.20201356e+07,  6.31460459e+07,\n",
       "        2.79366868e+07,  6.27511307e+07,  5.46223589e+07,  5.52822858e+07,\n",
       "        4.71628201e+07,  1.84209058e+07,  1.23836697e+07,  2.63242200e+07,\n",
       "        3.27435880e+07,  5.22418243e+07,  5.79165469e+07,  4.32711261e+07,\n",
       "        3.40703131e+07,  1.41876664e+07,  5.65471153e+07,  3.37223184e+07,\n",
       "        3.27248761e+07,  6.80030912e+07,  2.40691889e+07,  2.90230182e+07,\n",
       "        4.06306489e+07,  2.53446261e+07,  1.07217872e+07,  3.14865564e+07,\n",
       "        8.31160886e+06,  4.57826008e+07,  2.73719388e+07,  7.34598696e+06,\n",
       "        6.49394170e+07,  3.56809158e+07,  5.94062111e+07,  1.84209058e+07,\n",
       "        2.52952842e+07,  4.01664084e+07,  5.70100361e+07,  4.47397740e+07,\n",
       "        7.97526045e+06,  2.42263259e+07,  4.33545865e+07, -9.09187872e+06,\n",
       "        2.43894497e+07,  9.84062168e+07,  7.86248791e+07,  3.11432616e+07,\n",
       "        4.19204311e+07,  4.20903353e+07,  6.61425046e+07,  4.83119308e+07,\n",
       "        1.11529158e+07,  2.20830747e+07,  4.00251332e+07,  5.05701708e+07,\n",
       "        2.05277227e+07,  3.46204230e+07,  4.02612630e+07,  5.63013642e+07,\n",
       "        4.45159702e+06,  2.57499581e+07,  2.49084007e+07,  1.27706352e+07,\n",
       "        3.56682382e+07,  5.66283448e+07,  2.47266091e+07,  3.27435880e+07,\n",
       "        8.14412350e+07,  8.38644013e+07,  3.71887788e+07,  2.53446261e+07,\n",
       "        4.68369172e+07,  5.16592726e+06,  2.39604448e+07,  3.59556450e+07,\n",
       "        1.88783524e+07,  3.34214074e+07,  3.64137291e+07,  6.27257555e+07,\n",
       "        4.55413152e+07,  1.12249360e+07,  1.03545050e+07,  4.65056811e+07,\n",
       "        1.94081222e+06,  4.61453769e+06,  3.23270302e+07,  9.67812418e+06,\n",
       "        3.76244868e+07,  2.41058533e+07,  1.56228225e+07,  1.63418459e+07,\n",
       "        6.62892430e+07,  4.86193423e+07,  1.63418459e+07,  3.68721414e+07,\n",
       "        3.89256771e+07,  8.37339795e+07,  5.63290523e+07,  2.36876344e+07,\n",
       "        4.60325455e+07,  1.98254277e+07,  6.86870329e+07,  3.24783963e+07,\n",
       "        2.84073146e+07,  2.29006703e+07,  5.63388896e+07,  5.54234829e+07,\n",
       "        1.40482155e+07,  2.65481466e+07,  5.56988753e+07,  2.79366868e+07,\n",
       "        3.49010252e+07,  5.51182945e+07, -9.60907657e+06,  2.90997853e+07,\n",
       "        2.72510296e+07,  4.22693247e+05,  2.35563574e+07,  4.48234456e+07,\n",
       "        1.33316256e+07,  2.69734585e+07,  3.88253207e+07,  4.11469550e+07,\n",
       "        4.81522471e+07,  1.71279833e+07,  4.16166736e+07,  4.53617629e+07,\n",
       "        4.81353632e+07,  4.19204311e+07,  2.96480460e+07,  3.27435880e+07,\n",
       "        5.11000521e+07,  3.46242157e+07,  4.21812861e+07,  1.61218995e+07,\n",
       "        3.22207067e+07,  2.45420787e+07,  3.13481809e+07,  1.51061522e+07,\n",
       "        9.23776543e+06,  3.47696242e+07,  3.49536074e+07,  2.50887609e+07,\n",
       "        1.58892104e+07,  3.45336772e+07,  1.36060325e+07,  3.78325636e+07,\n",
       "        5.58857256e+07,  4.34803245e+07,  2.32441116e+07,  1.37808794e+07])"
      ]
     },
     "execution_count": 34,
     "metadata": {},
     "output_type": "execute_result"
    }
   ],
   "source": [
    "p_val"
   ]
  },
  {
   "cell_type": "code",
   "execution_count": 35,
   "metadata": {},
   "outputs": [
    {
     "name": "stdout",
     "output_type": "stream",
     "text": [
      "RMSE: 9362636.306389766\n"
     ]
    }
   ],
   "source": [
    "#評価は検証データで行います。\n",
    "mse = mean_squared_error(t_val, p_val)\n",
    "print('RMSE:', math.sqrt(mse))"
   ]
  },
  {
   "cell_type": "code",
   "execution_count": 36,
   "metadata": {},
   "outputs": [
    {
     "name": "stdout",
     "output_type": "stream",
     "text": [
      "RMSE: 10205189.819081264\n"
     ]
    }
   ],
   "source": [
    "#訓練データについてはおまけです。\n",
    "mse = mean_squared_error(t_train, p_train)\n",
    "print('RMSE:', math.sqrt(mse))"
   ]
  },
  {
   "cell_type": "markdown",
   "metadata": {},
   "source": [
    "# week3はここまでででした・・・\n",
    "簡単に終わってしまう方はweek3のおまけで紹介したXGBoostなど他のモデルも使ってみましょう。"
   ]
  },
  {
   "cell_type": "code",
   "execution_count": null,
   "metadata": {},
   "outputs": [],
   "source": []
  },
  {
   "cell_type": "markdown",
   "metadata": {},
   "source": [
    "# week5はここからです！\n",
    "### STEP1. 国土交通省の中古マンション取引履歴から頑張ってデータ準備した訓練データで予測モデルを作成しました。\n",
    "### STEP2. 教師データに含まれているはずもない、Web上の不動産物件情報に対して、価格の予測を行い、実際と比較してみましょう。\n",
    "#### お買い得物件が見つかるかもしれません。"
   ]
  },
  {
   "cell_type": "code",
   "execution_count": null,
   "metadata": {},
   "outputs": [],
   "source": []
  },
  {
   "cell_type": "code",
   "execution_count": 37,
   "metadata": {
    "scrolled": true
   },
   "outputs": [
    {
     "name": "stdout",
     "output_type": "stream",
     "text": [
      " ドライブ C のボリューム ラベルは Windows です\n",
      " ボリューム シリアル番号は 2CB0-A238 です\n",
      "\n",
      " C:\\Users\\USER\\Documents\\iwahashi\\iwahashi\\splineglobal\\TableauDS学習塾\\long2\\week5\\week5-contents のディレクトリ\n",
      "\n"
     ]
    },
    {
     "name": "stderr",
     "output_type": "stream",
     "text": [
      "ファイルが見つかりません\n",
      "'ls' は、内部コマンドまたは外部コマンド、\n",
      "操作可能なプログラムまたはバッチ ファイルとして認識されていません。\n"
     ]
    }
   ],
   "source": [
    "#jupyter notebook が開いているところにあるファイルを確認\n",
    "!dir #windows\n",
    "!ls #mac"
   ]
  },
  {
   "cell_type": "markdown",
   "metadata": {},
   "source": [
    "HOMES（不動産仲介業）のウェブサイト（　https://www.homes.co.jp/mansion/chuko/　）からスクレイピングし、\n",
    "機械学習のモデルに投入できるように、諸々前準備したファイルをを利用します。（\"HOMES_SCRAPING_ChuoLine_lat_long-UTF8.csv\"）\n",
    "このファイルはHOMESのWEBに今（2020-02-08)掲載されている、物件の条件や画像リンク、緯度経度が含まれています。\n",
    "\n",
    "※　今回は　Google ChromeプラグインのInstant Data Sraper（https://chrome.google.com/webstore/detail/instant-data-scraper/ofaokhiedipichpaobibbnahnkdoiiah） を利用してある程度スクレイピングしたものをTableau Prep Builderで加工しました。\n"
   ]
  },
  {
   "cell_type": "code",
   "execution_count": 38,
   "metadata": {
    "scrolled": true
   },
   "outputs": [],
   "source": [
    "# データをインポートします。\n",
    "data_scraping = pd.read_csv(\"HOMES_SCRAPING_ChuoLine_lat_long-UTF8.csv\")"
   ]
  },
  {
   "cell_type": "code",
   "execution_count": 39,
   "metadata": {},
   "outputs": [
    {
     "data": {
      "text/html": [
       "<div>\n",
       "<style scoped>\n",
       "    .dataframe tbody tr th:only-of-type {\n",
       "        vertical-align: middle;\n",
       "    }\n",
       "\n",
       "    .dataframe tbody tr th {\n",
       "        vertical-align: top;\n",
       "    }\n",
       "\n",
       "    .dataframe thead th {\n",
       "        text-align: right;\n",
       "    }\n",
       "</style>\n",
       "<table border=\"1\" class=\"dataframe\">\n",
       "  <thead>\n",
       "    <tr style=\"text-align: right;\">\n",
       "      <th></th>\n",
       "      <th>id</th>\n",
       "      <th>bukkenName</th>\n",
       "      <th>years</th>\n",
       "      <th>minutes</th>\n",
       "      <th>sqrm</th>\n",
       "      <th>distance</th>\n",
       "      <th>renovate</th>\n",
       "      <th>express</th>\n",
       "      <th>price</th>\n",
       "      <th>rooms</th>\n",
       "      <th>...</th>\n",
       "      <th>displayPic -https</th>\n",
       "      <th>raSpecRow</th>\n",
       "      <th>relatedKeywordsData</th>\n",
       "      <th>relatedKeywordsData 2</th>\n",
       "      <th>relatedKeywordsData 3</th>\n",
       "      <th>relatedKeywordsData 4</th>\n",
       "      <th>textFeatureComment</th>\n",
       "      <th>relatedKeywordsData 5</th>\n",
       "      <th>緯度</th>\n",
       "      <th>経度</th>\n",
       "    </tr>\n",
       "  </thead>\n",
       "  <tbody>\n",
       "    <tr>\n",
       "      <td>0</td>\n",
       "      <td>1</td>\n",
       "      <td>九段フラワーホーム</td>\n",
       "      <td>41</td>\n",
       "      <td>5</td>\n",
       "      <td>42.14</td>\n",
       "      <td>2.960148</td>\n",
       "      <td>1</td>\n",
       "      <td>0</td>\n",
       "      <td>4480</td>\n",
       "      <td>1LDK</td>\n",
       "      <td>...</td>\n",
       "      <td>https://image.homes.jp/smallimg/image.php?file...</td>\n",
       "      <td>11</td>\n",
       "      <td>駐車場あり</td>\n",
       "      <td>エレベーター</td>\n",
       "      <td>最上階</td>\n",
       "      <td>スーパー800m以内</td>\n",
       "      <td>当社売主。いつでも内覧可能です。市ヶ谷駅より徒歩5分、4路線利用可能の大規模マンション。</td>\n",
       "      <td>NaN</td>\n",
       "      <td>35.693810</td>\n",
       "      <td>139.739639</td>\n",
       "    </tr>\n",
       "    <tr>\n",
       "      <td>1</td>\n",
       "      <td>2</td>\n",
       "      <td>曙マンション</td>\n",
       "      <td>47</td>\n",
       "      <td>12</td>\n",
       "      <td>47.99</td>\n",
       "      <td>31.925628</td>\n",
       "      <td>1</td>\n",
       "      <td>1</td>\n",
       "      <td>1690</td>\n",
       "      <td>2DK</td>\n",
       "      <td>...</td>\n",
       "      <td>https://image2.homes.jp/smallimg/image.php?fil...</td>\n",
       "      <td>29</td>\n",
       "      <td>リノベーション・リフォーム</td>\n",
       "      <td>エレベーター</td>\n",
       "      <td>NaN</td>\n",
       "      <td>NaN</td>\n",
       "      <td>4階部分南西向きにつき陽当り良好／ＪＲ中央線「立川」駅徒歩12分</td>\n",
       "      <td>NaN</td>\n",
       "      <td>35.702904</td>\n",
       "      <td>139.424179</td>\n",
       "    </tr>\n",
       "    <tr>\n",
       "      <td>2</td>\n",
       "      <td>3</td>\n",
       "      <td>東中野ＲＨソサエテイ</td>\n",
       "      <td>48</td>\n",
       "      <td>3</td>\n",
       "      <td>43.60</td>\n",
       "      <td>7.768448</td>\n",
       "      <td>1</td>\n",
       "      <td>0</td>\n",
       "      <td>2980</td>\n",
       "      <td>1LDK</td>\n",
       "      <td>...</td>\n",
       "      <td>https://image.homes.jp/smallimg/image.php?file...</td>\n",
       "      <td>30</td>\n",
       "      <td>リノベーション・リフォーム</td>\n",
       "      <td>駐車場あり</td>\n",
       "      <td>エレベーター</td>\n",
       "      <td>スーパー800m以内</td>\n",
       "      <td>東中野駅徒歩3分の好立地／8階角部屋につき眺望良好です</td>\n",
       "      <td>角部屋</td>\n",
       "      <td>35.707783</td>\n",
       "      <td>139.686844</td>\n",
       "    </tr>\n",
       "    <tr>\n",
       "      <td>3</td>\n",
       "      <td>4</td>\n",
       "      <td>小金井スカイコーポラス</td>\n",
       "      <td>51</td>\n",
       "      <td>6</td>\n",
       "      <td>61.05</td>\n",
       "      <td>23.604636</td>\n",
       "      <td>1</td>\n",
       "      <td>0</td>\n",
       "      <td>2180</td>\n",
       "      <td>1SLDK</td>\n",
       "      <td>...</td>\n",
       "      <td>https://image2.homes.jp/smallimg/image.php?fil...</td>\n",
       "      <td>30</td>\n",
       "      <td>リノベーション・リフォーム</td>\n",
       "      <td>ペット相談可</td>\n",
       "      <td>駐車場あり</td>\n",
       "      <td>エレベーター</td>\n",
       "      <td>土地権利：所有権のお部屋／武蔵小金井駅徒歩6分の大規模マンションです／ペット飼育相談</td>\n",
       "      <td>スーパー800m以内</td>\n",
       "      <td>35.697376</td>\n",
       "      <td>139.505692</td>\n",
       "    </tr>\n",
       "    <tr>\n",
       "      <td>4</td>\n",
       "      <td>5</td>\n",
       "      <td>境南マンション</td>\n",
       "      <td>51</td>\n",
       "      <td>9</td>\n",
       "      <td>47.38</td>\n",
       "      <td>20.154785</td>\n",
       "      <td>1</td>\n",
       "      <td>0</td>\n",
       "      <td>1980</td>\n",
       "      <td>2LDK</td>\n",
       "      <td>...</td>\n",
       "      <td>https://image.homes.jp/smallimg/image.php?file...</td>\n",
       "      <td>30</td>\n",
       "      <td>リノベーション・リフォーム</td>\n",
       "      <td>オートロック</td>\n",
       "      <td>エレベーター</td>\n",
       "      <td>角部屋</td>\n",
       "      <td>JR中央線「武蔵境」駅徒歩9分／南向き角部屋で眺望・陽当たり良好</td>\n",
       "      <td>NaN</td>\n",
       "      <td>35.699955</td>\n",
       "      <td>139.536057</td>\n",
       "    </tr>\n",
       "  </tbody>\n",
       "</table>\n",
       "<p>5 rows × 28 columns</p>\n",
       "</div>"
      ],
      "text/plain": [
       "   id   bukkenName  years  minutes   sqrm   distance  renovate  express  \\\n",
       "0   1    九段フラワーホーム     41        5  42.14   2.960148         1        0   \n",
       "1   2       曙マンション     47       12  47.99  31.925628         1        1   \n",
       "2   3   東中野ＲＨソサエテイ     48        3  43.60   7.768448         1        0   \n",
       "3   4  小金井スカイコーポラス     51        6  61.05  23.604636         1        0   \n",
       "4   5      境南マンション     51        9  47.38  20.154785         1        0   \n",
       "\n",
       "   price  rooms  ...                                  displayPic -https  \\\n",
       "0   4480   1LDK  ...  https://image.homes.jp/smallimg/image.php?file...   \n",
       "1   1690    2DK  ...  https://image2.homes.jp/smallimg/image.php?fil...   \n",
       "2   2980   1LDK  ...  https://image.homes.jp/smallimg/image.php?file...   \n",
       "3   2180  1SLDK  ...  https://image2.homes.jp/smallimg/image.php?fil...   \n",
       "4   1980   2LDK  ...  https://image.homes.jp/smallimg/image.php?file...   \n",
       "\n",
       "   raSpecRow relatedKeywordsData relatedKeywordsData 2 relatedKeywordsData 3  \\\n",
       "0         11               駐車場あり                エレベーター                   最上階   \n",
       "1         29       リノベーション・リフォーム                エレベーター                   NaN   \n",
       "2         30       リノベーション・リフォーム                 駐車場あり                エレベーター   \n",
       "3         30       リノベーション・リフォーム                ペット相談可                 駐車場あり   \n",
       "4         30       リノベーション・リフォーム                オートロック                エレベーター   \n",
       "\n",
       "  relatedKeywordsData 4                            textFeatureComment  \\\n",
       "0            スーパー800m以内  当社売主。いつでも内覧可能です。市ヶ谷駅より徒歩5分、4路線利用可能の大規模マンション。   \n",
       "1                   NaN              4階部分南西向きにつき陽当り良好／ＪＲ中央線「立川」駅徒歩12分   \n",
       "2            スーパー800m以内                   東中野駅徒歩3分の好立地／8階角部屋につき眺望良好です   \n",
       "3                エレベーター    土地権利：所有権のお部屋／武蔵小金井駅徒歩6分の大規模マンションです／ペット飼育相談   \n",
       "4                   角部屋              JR中央線「武蔵境」駅徒歩9分／南向き角部屋で眺望・陽当たり良好   \n",
       "\n",
       "  relatedKeywordsData 5         緯度          経度  \n",
       "0                   NaN  35.693810  139.739639  \n",
       "1                   NaN  35.702904  139.424179  \n",
       "2                   角部屋  35.707783  139.686844  \n",
       "3            スーパー800m以内  35.697376  139.505692  \n",
       "4                   NaN  35.699955  139.536057  \n",
       "\n",
       "[5 rows x 28 columns]"
      ]
     },
     "execution_count": 39,
     "metadata": {},
     "output_type": "execute_result"
    }
   ],
   "source": [
    "#中身を確認します。\n",
    "data_scraping.head()"
   ]
  },
  {
   "cell_type": "code",
   "execution_count": 40,
   "metadata": {},
   "outputs": [],
   "source": [
    "#予測に必要な特徴量（説明変数はilocの列指定で、 2:8 です。）\n",
    "test_x = data_scraping.iloc[:,2:8]"
   ]
  },
  {
   "cell_type": "code",
   "execution_count": 41,
   "metadata": {},
   "outputs": [
    {
     "data": {
      "text/html": [
       "<div>\n",
       "<style scoped>\n",
       "    .dataframe tbody tr th:only-of-type {\n",
       "        vertical-align: middle;\n",
       "    }\n",
       "\n",
       "    .dataframe tbody tr th {\n",
       "        vertical-align: top;\n",
       "    }\n",
       "\n",
       "    .dataframe thead th {\n",
       "        text-align: right;\n",
       "    }\n",
       "</style>\n",
       "<table border=\"1\" class=\"dataframe\">\n",
       "  <thead>\n",
       "    <tr style=\"text-align: right;\">\n",
       "      <th></th>\n",
       "      <th>years</th>\n",
       "      <th>minutes</th>\n",
       "      <th>sqrm</th>\n",
       "      <th>distance</th>\n",
       "      <th>renovate</th>\n",
       "      <th>express</th>\n",
       "    </tr>\n",
       "  </thead>\n",
       "  <tbody>\n",
       "    <tr>\n",
       "      <td>0</td>\n",
       "      <td>41</td>\n",
       "      <td>5</td>\n",
       "      <td>42.14</td>\n",
       "      <td>2.960148</td>\n",
       "      <td>1</td>\n",
       "      <td>0</td>\n",
       "    </tr>\n",
       "    <tr>\n",
       "      <td>1</td>\n",
       "      <td>47</td>\n",
       "      <td>12</td>\n",
       "      <td>47.99</td>\n",
       "      <td>31.925628</td>\n",
       "      <td>1</td>\n",
       "      <td>1</td>\n",
       "    </tr>\n",
       "    <tr>\n",
       "      <td>2</td>\n",
       "      <td>48</td>\n",
       "      <td>3</td>\n",
       "      <td>43.60</td>\n",
       "      <td>7.768448</td>\n",
       "      <td>1</td>\n",
       "      <td>0</td>\n",
       "    </tr>\n",
       "    <tr>\n",
       "      <td>3</td>\n",
       "      <td>51</td>\n",
       "      <td>6</td>\n",
       "      <td>61.05</td>\n",
       "      <td>23.604636</td>\n",
       "      <td>1</td>\n",
       "      <td>0</td>\n",
       "    </tr>\n",
       "    <tr>\n",
       "      <td>4</td>\n",
       "      <td>51</td>\n",
       "      <td>9</td>\n",
       "      <td>47.38</td>\n",
       "      <td>20.154785</td>\n",
       "      <td>1</td>\n",
       "      <td>0</td>\n",
       "    </tr>\n",
       "  </tbody>\n",
       "</table>\n",
       "</div>"
      ],
      "text/plain": [
       "   years  minutes   sqrm   distance  renovate  express\n",
       "0     41        5  42.14   2.960148         1        0\n",
       "1     47       12  47.99  31.925628         1        1\n",
       "2     48        3  43.60   7.768448         1        0\n",
       "3     51        6  61.05  23.604636         1        0\n",
       "4     51        9  47.38  20.154785         1        0"
      ]
     },
     "execution_count": 41,
     "metadata": {},
     "output_type": "execute_result"
    }
   ],
   "source": [
    "#中身を確認します。\n",
    "test_x.head()"
   ]
  },
  {
   "cell_type": "code",
   "execution_count": 42,
   "metadata": {},
   "outputs": [],
   "source": [
    "# predict_price に予測結果を格納します。\n",
    "predict_price = model.predict(test_x)"
   ]
  },
  {
   "cell_type": "code",
   "execution_count": 43,
   "metadata": {},
   "outputs": [],
   "source": [
    "# 予測結果をDataFrame型に変換します。\n",
    "df_predict_price = pd.DataFrame(predict_price, columns=['predict'])"
   ]
  },
  {
   "cell_type": "code",
   "execution_count": 44,
   "metadata": {},
   "outputs": [],
   "source": [
    "#元々の情報に予測結果を追加します。concatを使います。\n",
    "scraping_predict =  pd.concat([data_scraping,df_predict_price],axis=1)"
   ]
  },
  {
   "cell_type": "code",
   "execution_count": 45,
   "metadata": {},
   "outputs": [
    {
     "data": {
      "text/html": [
       "<div>\n",
       "<style scoped>\n",
       "    .dataframe tbody tr th:only-of-type {\n",
       "        vertical-align: middle;\n",
       "    }\n",
       "\n",
       "    .dataframe tbody tr th {\n",
       "        vertical-align: top;\n",
       "    }\n",
       "\n",
       "    .dataframe thead th {\n",
       "        text-align: right;\n",
       "    }\n",
       "</style>\n",
       "<table border=\"1\" class=\"dataframe\">\n",
       "  <thead>\n",
       "    <tr style=\"text-align: right;\">\n",
       "      <th></th>\n",
       "      <th>id</th>\n",
       "      <th>bukkenName</th>\n",
       "      <th>years</th>\n",
       "      <th>minutes</th>\n",
       "      <th>sqrm</th>\n",
       "      <th>distance</th>\n",
       "      <th>renovate</th>\n",
       "      <th>express</th>\n",
       "      <th>price</th>\n",
       "      <th>rooms</th>\n",
       "      <th>...</th>\n",
       "      <th>raSpecRow</th>\n",
       "      <th>relatedKeywordsData</th>\n",
       "      <th>relatedKeywordsData 2</th>\n",
       "      <th>relatedKeywordsData 3</th>\n",
       "      <th>relatedKeywordsData 4</th>\n",
       "      <th>textFeatureComment</th>\n",
       "      <th>relatedKeywordsData 5</th>\n",
       "      <th>緯度</th>\n",
       "      <th>経度</th>\n",
       "      <th>predict</th>\n",
       "    </tr>\n",
       "  </thead>\n",
       "  <tbody>\n",
       "    <tr>\n",
       "      <td>0</td>\n",
       "      <td>1</td>\n",
       "      <td>九段フラワーホーム</td>\n",
       "      <td>41</td>\n",
       "      <td>5</td>\n",
       "      <td>42.14</td>\n",
       "      <td>2.960148</td>\n",
       "      <td>1</td>\n",
       "      <td>0</td>\n",
       "      <td>4480</td>\n",
       "      <td>1LDK</td>\n",
       "      <td>...</td>\n",
       "      <td>11</td>\n",
       "      <td>駐車場あり</td>\n",
       "      <td>エレベーター</td>\n",
       "      <td>最上階</td>\n",
       "      <td>スーパー800m以内</td>\n",
       "      <td>当社売主。いつでも内覧可能です。市ヶ谷駅より徒歩5分、4路線利用可能の大規模マンション。</td>\n",
       "      <td>NaN</td>\n",
       "      <td>35.693810</td>\n",
       "      <td>139.739639</td>\n",
       "      <td>3.521652e+07</td>\n",
       "    </tr>\n",
       "    <tr>\n",
       "      <td>1</td>\n",
       "      <td>2</td>\n",
       "      <td>曙マンション</td>\n",
       "      <td>47</td>\n",
       "      <td>12</td>\n",
       "      <td>47.99</td>\n",
       "      <td>31.925628</td>\n",
       "      <td>1</td>\n",
       "      <td>1</td>\n",
       "      <td>1690</td>\n",
       "      <td>2DK</td>\n",
       "      <td>...</td>\n",
       "      <td>29</td>\n",
       "      <td>リノベーション・リフォーム</td>\n",
       "      <td>エレベーター</td>\n",
       "      <td>NaN</td>\n",
       "      <td>NaN</td>\n",
       "      <td>4階部分南西向きにつき陽当り良好／ＪＲ中央線「立川」駅徒歩12分</td>\n",
       "      <td>NaN</td>\n",
       "      <td>35.702904</td>\n",
       "      <td>139.424179</td>\n",
       "      <td>1.187765e+07</td>\n",
       "    </tr>\n",
       "    <tr>\n",
       "      <td>2</td>\n",
       "      <td>3</td>\n",
       "      <td>東中野ＲＨソサエテイ</td>\n",
       "      <td>48</td>\n",
       "      <td>3</td>\n",
       "      <td>43.60</td>\n",
       "      <td>7.768448</td>\n",
       "      <td>1</td>\n",
       "      <td>0</td>\n",
       "      <td>2980</td>\n",
       "      <td>1LDK</td>\n",
       "      <td>...</td>\n",
       "      <td>30</td>\n",
       "      <td>リノベーション・リフォーム</td>\n",
       "      <td>駐車場あり</td>\n",
       "      <td>エレベーター</td>\n",
       "      <td>スーパー800m以内</td>\n",
       "      <td>東中野駅徒歩3分の好立地／8階角部屋につき眺望良好です</td>\n",
       "      <td>角部屋</td>\n",
       "      <td>35.707783</td>\n",
       "      <td>139.686844</td>\n",
       "      <td>3.051689e+07</td>\n",
       "    </tr>\n",
       "    <tr>\n",
       "      <td>3</td>\n",
       "      <td>4</td>\n",
       "      <td>小金井スカイコーポラス</td>\n",
       "      <td>51</td>\n",
       "      <td>6</td>\n",
       "      <td>61.05</td>\n",
       "      <td>23.604636</td>\n",
       "      <td>1</td>\n",
       "      <td>0</td>\n",
       "      <td>2180</td>\n",
       "      <td>1SLDK</td>\n",
       "      <td>...</td>\n",
       "      <td>30</td>\n",
       "      <td>リノベーション・リフォーム</td>\n",
       "      <td>ペット相談可</td>\n",
       "      <td>駐車場あり</td>\n",
       "      <td>エレベーター</td>\n",
       "      <td>土地権利：所有権のお部屋／武蔵小金井駅徒歩6分の大規模マンションです／ペット飼育相談</td>\n",
       "      <td>スーパー800m以内</td>\n",
       "      <td>35.697376</td>\n",
       "      <td>139.505692</td>\n",
       "      <td>2.937443e+07</td>\n",
       "    </tr>\n",
       "    <tr>\n",
       "      <td>4</td>\n",
       "      <td>5</td>\n",
       "      <td>境南マンション</td>\n",
       "      <td>51</td>\n",
       "      <td>9</td>\n",
       "      <td>47.38</td>\n",
       "      <td>20.154785</td>\n",
       "      <td>1</td>\n",
       "      <td>0</td>\n",
       "      <td>1980</td>\n",
       "      <td>2LDK</td>\n",
       "      <td>...</td>\n",
       "      <td>30</td>\n",
       "      <td>リノベーション・リフォーム</td>\n",
       "      <td>オートロック</td>\n",
       "      <td>エレベーター</td>\n",
       "      <td>角部屋</td>\n",
       "      <td>JR中央線「武蔵境」駅徒歩9分／南向き角部屋で眺望・陽当たり良好</td>\n",
       "      <td>NaN</td>\n",
       "      <td>35.699955</td>\n",
       "      <td>139.536057</td>\n",
       "      <td>1.892513e+07</td>\n",
       "    </tr>\n",
       "  </tbody>\n",
       "</table>\n",
       "<p>5 rows × 29 columns</p>\n",
       "</div>"
      ],
      "text/plain": [
       "   id   bukkenName  years  minutes   sqrm   distance  renovate  express  \\\n",
       "0   1    九段フラワーホーム     41        5  42.14   2.960148         1        0   \n",
       "1   2       曙マンション     47       12  47.99  31.925628         1        1   \n",
       "2   3   東中野ＲＨソサエテイ     48        3  43.60   7.768448         1        0   \n",
       "3   4  小金井スカイコーポラス     51        6  61.05  23.604636         1        0   \n",
       "4   5      境南マンション     51        9  47.38  20.154785         1        0   \n",
       "\n",
       "   price  rooms  ... raSpecRow  relatedKeywordsData relatedKeywordsData 2  \\\n",
       "0   4480   1LDK  ...        11                駐車場あり                エレベーター   \n",
       "1   1690    2DK  ...        29        リノベーション・リフォーム                エレベーター   \n",
       "2   2980   1LDK  ...        30        リノベーション・リフォーム                 駐車場あり   \n",
       "3   2180  1SLDK  ...        30        リノベーション・リフォーム                ペット相談可   \n",
       "4   1980   2LDK  ...        30        リノベーション・リフォーム                オートロック   \n",
       "\n",
       "  relatedKeywordsData 3 relatedKeywordsData 4  \\\n",
       "0                   最上階            スーパー800m以内   \n",
       "1                   NaN                   NaN   \n",
       "2                エレベーター            スーパー800m以内   \n",
       "3                 駐車場あり                エレベーター   \n",
       "4                エレベーター                   角部屋   \n",
       "\n",
       "                             textFeatureComment relatedKeywordsData 5  \\\n",
       "0  当社売主。いつでも内覧可能です。市ヶ谷駅より徒歩5分、4路線利用可能の大規模マンション。                   NaN   \n",
       "1              4階部分南西向きにつき陽当り良好／ＪＲ中央線「立川」駅徒歩12分                   NaN   \n",
       "2                   東中野駅徒歩3分の好立地／8階角部屋につき眺望良好です                   角部屋   \n",
       "3    土地権利：所有権のお部屋／武蔵小金井駅徒歩6分の大規模マンションです／ペット飼育相談            スーパー800m以内   \n",
       "4              JR中央線「武蔵境」駅徒歩9分／南向き角部屋で眺望・陽当たり良好                   NaN   \n",
       "\n",
       "          緯度          経度       predict  \n",
       "0  35.693810  139.739639  3.521652e+07  \n",
       "1  35.702904  139.424179  1.187765e+07  \n",
       "2  35.707783  139.686844  3.051689e+07  \n",
       "3  35.697376  139.505692  2.937443e+07  \n",
       "4  35.699955  139.536057  1.892513e+07  \n",
       "\n",
       "[5 rows x 29 columns]"
      ]
     },
     "execution_count": 45,
     "metadata": {},
     "output_type": "execute_result"
    }
   ],
   "source": [
    "scraping_predict.head()"
   ]
  },
  {
   "cell_type": "code",
   "execution_count": 46,
   "metadata": {},
   "outputs": [],
   "source": [
    "#csvに吐き出します。\n",
    "scraping_predict.to_csv(\"Chuoline_Scraiping+Predict.csv\")"
   ]
  },
  {
   "cell_type": "code",
   "execution_count": null,
   "metadata": {},
   "outputs": [],
   "source": []
  },
  {
   "cell_type": "markdown",
   "metadata": {},
   "source": [
    "Tableau Desktop から予測値を含む　\"Chuoline_Scraiping+Predict.csv\"　に接続し、予測値を使ったダッシュボードを作ってみましょう。\n",
    "もし、不動産業の担当であれば、物件の条件から相場を予測することに利用できるかもしれません。\n",
    "今回は既に価格のわかっているデータではありますから、相場（予測）と実際の差分から、「お買い得物件」を発見できるかもしれません。\n"
   ]
  },
  {
   "cell_type": "markdown",
   "metadata": {},
   "source": [
    "このデータをもとにワークブックを作成し、Tableau Public に掲載したサンプルです。"
   ]
  },
  {
   "cell_type": "code",
   "execution_count": 47,
   "metadata": {},
   "outputs": [
    {
     "data": {
      "text/html": [
       "<div class='tableauPlaceholder' id='viz1581142085782' style='position: relative'><noscript><a href='#'><img alt=' ' src='https:&#47;&#47;public.tableau.com&#47;static&#47;images&#47;KD&#47;KD7QTP8FH&#47;1_rss.png' style='border: none' /></a></noscript><object class='tableauViz'  style='display:none;'><param name='host_url' value='https%3A%2F%2Fpublic.tableau.com%2F' /> <param name='embed_code_version' value='3' /> <param name='path' value='shared&#47;KD7QTP8FH' /> <param name='toolbar' value='yes' /><param name='static_image' value='https:&#47;&#47;public.tableau.com&#47;static&#47;images&#47;KD&#47;KD7QTP8FH&#47;1.png' /> <param name='animate_transition' value='yes' /><param name='display_static_image' value='yes' /><param name='display_spinner' value='yes' /><param name='display_overlay' value='yes' /><param name='display_count' value='yes' /><param name='filter' value='publish=yes' /></object></div>                <script type='text/javascript'>                    var divElement = document.getElementById('viz1581142085782');                    var vizElement = divElement.getElementsByTagName('object')[0];                    if ( divElement.offsetWidth > 800 ) { vizElement.style.width='100%';vizElement.style.height=(divElement.offsetWidth*0.75)+'px';} else if ( divElement.offsetWidth > 500 ) { vizElement.style.width='100%';vizElement.style.height=(divElement.offsetWidth*0.75)+'px';} else { vizElement.style.width='100%';vizElement.style.minHeight='1400px';vizElement.style.maxHeight=(divElement.offsetWidth*1.77)+'px';}                     var scriptElement = document.createElement('script');                    scriptElement.src = 'https://public.tableau.com/javascripts/api/viz_v1.js';                    vizElement.parentNode.insertBefore(scriptElement, vizElement);                </script>\n"
      ],
      "text/plain": [
       "<IPython.core.display.HTML object>"
      ]
     },
     "metadata": {},
     "output_type": "display_data"
    }
   ],
   "source": [
    "%%HTML\n",
    "<div class='tableauPlaceholder' id='viz1581142085782' style='position: relative'><noscript><a href='#'><img alt=' ' src='https:&#47;&#47;public.tableau.com&#47;static&#47;images&#47;KD&#47;KD7QTP8FH&#47;1_rss.png' style='border: none' /></a></noscript><object class='tableauViz'  style='display:none;'><param name='host_url' value='https%3A%2F%2Fpublic.tableau.com%2F' /> <param name='embed_code_version' value='3' /> <param name='path' value='shared&#47;KD7QTP8FH' /> <param name='toolbar' value='yes' /><param name='static_image' value='https:&#47;&#47;public.tableau.com&#47;static&#47;images&#47;KD&#47;KD7QTP8FH&#47;1.png' /> <param name='animate_transition' value='yes' /><param name='display_static_image' value='yes' /><param name='display_spinner' value='yes' /><param name='display_overlay' value='yes' /><param name='display_count' value='yes' /><param name='filter' value='publish=yes' /></object></div>                <script type='text/javascript'>                    var divElement = document.getElementById('viz1581142085782');                    var vizElement = divElement.getElementsByTagName('object')[0];                    if ( divElement.offsetWidth > 800 ) { vizElement.style.width='100%';vizElement.style.height=(divElement.offsetWidth*0.75)+'px';} else if ( divElement.offsetWidth > 500 ) { vizElement.style.width='100%';vizElement.style.height=(divElement.offsetWidth*0.75)+'px';} else { vizElement.style.width='100%';vizElement.style.minHeight='1400px';vizElement.style.maxHeight=(divElement.offsetWidth*1.77)+'px';}                     var scriptElement = document.createElement('script');                    scriptElement.src = 'https://public.tableau.com/javascripts/api/viz_v1.js';                    vizElement.parentNode.insertBefore(scriptElement, vizElement);                </script>"
   ]
  },
  {
   "cell_type": "markdown",
   "metadata": {},
   "source": [
    "### 補足　GBDT (Gradient Boost Decision Tree）を試してみましょう。"
   ]
  },
  {
   "cell_type": "code",
   "execution_count": 48,
   "metadata": {},
   "outputs": [
    {
     "name": "stdout",
     "output_type": "stream",
     "text": [
      "Requirement already satisfied: xgboost in c:\\programdata\\anaconda3\\lib\\site-packages (1.0.2)\n",
      "Requirement already satisfied: numpy in c:\\programdata\\anaconda3\\lib\\site-packages (from xgboost) (1.16.5)\n",
      "Requirement already satisfied: scipy in c:\\programdata\\anaconda3\\lib\\site-packages (from xgboost) (1.3.1)\n"
     ]
    }
   ],
   "source": [
    "!pip install xgboost"
   ]
  },
  {
   "cell_type": "code",
   "execution_count": 49,
   "metadata": {},
   "outputs": [],
   "source": [
    "import xgboost as xgb\n",
    "from sklearn.metrics import log_loss"
   ]
  },
  {
   "cell_type": "code",
   "execution_count": 50,
   "metadata": {},
   "outputs": [],
   "source": [
    "#GBDTで扱える形に変更\n",
    "dtrain = xgb.DMatrix(x_train, label=t_train)\n",
    "dvalid = xgb.DMatrix(x_val, label=t_val)"
   ]
  },
  {
   "cell_type": "code",
   "execution_count": 51,
   "metadata": {},
   "outputs": [],
   "source": [
    "params = {'objective':'reg:squarederror', 'silent':1 , 'random_state':71}\n",
    "num_round =50"
   ]
  },
  {
   "cell_type": "code",
   "execution_count": 52,
   "metadata": {},
   "outputs": [],
   "source": [
    "watchlist = [(dtrain,'train'),(dvalid,'eval')]"
   ]
  },
  {
   "cell_type": "code",
   "execution_count": 53,
   "metadata": {},
   "outputs": [
    {
     "name": "stdout",
     "output_type": "stream",
     "text": [
      "[0]\ttrain-rmse:29345464.00000\teval-rmse:30107838.00000\n",
      "[1]\ttrain-rmse:21457544.00000\teval-rmse:22077260.00000\n",
      "[2]\ttrain-rmse:16003146.00000\teval-rmse:16502447.00000\n",
      "[3]\ttrain-rmse:12248599.00000\teval-rmse:12898969.00000\n",
      "[4]\ttrain-rmse:9725397.00000\teval-rmse:10586329.00000\n",
      "[5]\ttrain-rmse:8051797.00000\teval-rmse:9131700.00000\n",
      "[6]\ttrain-rmse:6949698.50000\teval-rmse:8131266.50000\n",
      "[7]\ttrain-rmse:6226293.00000\teval-rmse:7609303.00000\n",
      "[8]\ttrain-rmse:5746667.50000\teval-rmse:7268201.00000\n",
      "[9]\ttrain-rmse:5450014.00000\teval-rmse:7097845.50000\n",
      "[10]\ttrain-rmse:5195719.00000\teval-rmse:7010491.50000\n",
      "[11]\ttrain-rmse:4999173.00000\teval-rmse:6976026.50000\n",
      "[12]\ttrain-rmse:4857461.00000\teval-rmse:6952394.00000\n",
      "[13]\ttrain-rmse:4745307.50000\teval-rmse:6903715.50000\n",
      "[14]\ttrain-rmse:4646628.50000\teval-rmse:6885524.50000\n",
      "[15]\ttrain-rmse:4599365.00000\teval-rmse:6884738.00000\n",
      "[16]\ttrain-rmse:4517039.00000\teval-rmse:6839118.00000\n",
      "[17]\ttrain-rmse:4482251.00000\teval-rmse:6808832.00000\n",
      "[18]\ttrain-rmse:4442178.50000\teval-rmse:6795563.50000\n",
      "[19]\ttrain-rmse:4376540.00000\teval-rmse:6812287.00000\n",
      "[20]\ttrain-rmse:4327906.00000\teval-rmse:6777184.50000\n",
      "[21]\ttrain-rmse:4316885.00000\teval-rmse:6767318.50000\n",
      "[22]\ttrain-rmse:4236322.00000\teval-rmse:6813105.50000\n",
      "[23]\ttrain-rmse:4229402.00000\teval-rmse:6810074.50000\n",
      "[24]\ttrain-rmse:4193944.75000\teval-rmse:6814305.50000\n",
      "[25]\ttrain-rmse:4174536.75000\teval-rmse:6810521.00000\n",
      "[26]\ttrain-rmse:4145634.75000\teval-rmse:6828577.00000\n",
      "[27]\ttrain-rmse:4133121.75000\teval-rmse:6820960.50000\n",
      "[28]\ttrain-rmse:4074821.00000\teval-rmse:6812609.50000\n",
      "[29]\ttrain-rmse:4047256.75000\teval-rmse:6812098.50000\n",
      "[30]\ttrain-rmse:4005931.25000\teval-rmse:6809536.00000\n",
      "[31]\ttrain-rmse:3971021.25000\teval-rmse:6801844.00000\n",
      "[32]\ttrain-rmse:3953053.25000\teval-rmse:6803595.50000\n",
      "[33]\ttrain-rmse:3900508.50000\teval-rmse:6795480.50000\n",
      "[34]\ttrain-rmse:3870737.50000\teval-rmse:6798216.50000\n",
      "[35]\ttrain-rmse:3844604.00000\teval-rmse:6809795.00000\n",
      "[36]\ttrain-rmse:3828775.25000\teval-rmse:6812736.50000\n",
      "[37]\ttrain-rmse:3788123.75000\teval-rmse:6806488.50000\n",
      "[38]\ttrain-rmse:3766690.50000\teval-rmse:6802222.50000\n",
      "[39]\ttrain-rmse:3743162.50000\teval-rmse:6806071.00000\n",
      "[40]\ttrain-rmse:3726093.25000\teval-rmse:6803291.00000\n",
      "[41]\ttrain-rmse:3709695.25000\teval-rmse:6787109.50000\n",
      "[42]\ttrain-rmse:3705575.75000\teval-rmse:6787347.50000\n",
      "[43]\ttrain-rmse:3676136.75000\teval-rmse:6784723.50000\n",
      "[44]\ttrain-rmse:3672007.00000\teval-rmse:6784037.50000\n",
      "[45]\ttrain-rmse:3626779.25000\teval-rmse:6788032.50000\n",
      "[46]\ttrain-rmse:3609064.25000\teval-rmse:6792079.00000\n",
      "[47]\ttrain-rmse:3546377.50000\teval-rmse:6753811.00000\n",
      "[48]\ttrain-rmse:3539448.25000\teval-rmse:6754120.00000\n",
      "[49]\ttrain-rmse:3525010.00000\teval-rmse:6759427.50000\n"
     ]
    }
   ],
   "source": [
    "model = xgb.train(params, dtrain,num_round, evals=watchlist)"
   ]
  },
  {
   "cell_type": "code",
   "execution_count": 55,
   "metadata": {},
   "outputs": [],
   "source": [
    "#予測値をゲットします。\n",
    "va_pred = model.predict(dvalid)\n",
    "train_pred = model.predict(dtrain)"
   ]
  },
  {
   "cell_type": "code",
   "execution_count": 56,
   "metadata": {},
   "outputs": [],
   "source": [
    "from sklearn.metrics import mean_squared_error\n",
    "import math"
   ]
  },
  {
   "cell_type": "code",
   "execution_count": 57,
   "metadata": {},
   "outputs": [
    {
     "name": "stdout",
     "output_type": "stream",
     "text": [
      "RMSE: 6759427.434418186\n"
     ]
    }
   ],
   "source": [
    "# 検証データについてRMSEを確認します。\n",
    "mse = mean_squared_error(t_val, va_pred)\n",
    "print('RMSE:', math.sqrt(mse))"
   ]
  },
  {
   "cell_type": "code",
   "execution_count": 59,
   "metadata": {},
   "outputs": [
    {
     "name": "stdout",
     "output_type": "stream",
     "text": [
      "RMSE: 3525009.745799859\n"
     ]
    }
   ],
   "source": [
    "#訓練データについてRMSEを確認します。\n",
    "mse = mean_squared_error(t_train, train_pred)\n",
    "print('RMSE:', math.sqrt(mse))"
   ]
  },
  {
   "cell_type": "markdown",
   "metadata": {},
   "source": [
    "####  GBDTモデルでの予測値を利用してダッシュボードを作ってみましょう。"
   ]
  },
  {
   "cell_type": "code",
   "execution_count": null,
   "metadata": {},
   "outputs": [],
   "source": []
  }
 ],
 "metadata": {
  "colab": {
   "name": "1.3. 機械学習の基本.ipynb",
   "provenance": [],
   "version": "0.3.2"
  },
  "kernelspec": {
   "display_name": "Python 3",
   "language": "python",
   "name": "python3"
  },
  "language_info": {
   "codemirror_mode": {
    "name": "ipython",
    "version": 3
   },
   "file_extension": ".py",
   "mimetype": "text/x-python",
   "name": "python",
   "nbconvert_exporter": "python",
   "pygments_lexer": "ipython3",
   "version": "3.7.4"
  }
 },
 "nbformat": 4,
 "nbformat_minor": 1
}
